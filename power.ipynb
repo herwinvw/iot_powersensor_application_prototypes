{
 "cells": [
  {
   "cell_type": "markdown",
   "metadata": {},
   "source": [
    "# Power sensor applications and analysis"
   ]
  },
  {
   "cell_type": "markdown",
   "metadata": {},
   "source": [
    "## Setup\n",
    "\n",
    "I have some Innr SP 120 Plugs (https://shop.innrlighting.com/en/shop/113/smart-plug) that\n",
    "are connected with zigbee2mqtt (https://github.com/Koenkk/zigbee2mqtt) to HomeAssistant (https://www.home-assistant.io/). For now I'm just looking at my dryer, but I will be generalizing to some other devices at a later stage."
   ]
  },
  {
   "cell_type": "markdown",
   "metadata": {},
   "source": [
    " I would like to use the data from their power sensor to do:\n",
    " * Automatic detection of dryer status: off, on (+ mode: running, knitterschutz, ?)\n",
    " * Notification when the dryer is done\n",
    " * Power consumption (in kWh) of the dryer\n",
    " * Estimation of how long the dryer will still be running"
   ]
  },
  {
   "cell_type": "markdown",
   "metadata": {},
   "source": [
    "# Reading the data and cleaning it up\n",
    "\n",
    "Data is provided in HomeAssistants database. For this analysis, I've exported the states table to CSV."
   ]
  },
  {
   "cell_type": "code",
   "execution_count": 4,
   "metadata": {},
   "outputs": [
    {
     "name": "stderr",
     "output_type": "stream",
     "text": [
      "C:\\Users\\herwinvw\\Anaconda3\\lib\\site-packages\\IPython\\core\\interactiveshell.py:2698: DtypeWarning: Columns (10) have mixed types. Specify dtype option on import or set low_memory=False.\n",
      "  interactivity=interactivity, compiler=compiler, result=result)\n"
     ]
    }
   ],
   "source": [
    "%matplotlib inline  \n",
    "import pandas as pd\n",
    "df = pd.read_csv('states.csv')"
   ]
  },
  {
   "cell_type": "code",
   "execution_count": 5,
   "metadata": {},
   "outputs": [
    {
     "data": {
      "text/html": [
       "<div>\n",
       "<style scoped>\n",
       "    .dataframe tbody tr th:only-of-type {\n",
       "        vertical-align: middle;\n",
       "    }\n",
       "\n",
       "    .dataframe tbody tr th {\n",
       "        vertical-align: top;\n",
       "    }\n",
       "\n",
       "    .dataframe thead th {\n",
       "        text-align: right;\n",
       "    }\n",
       "</style>\n",
       "<table border=\"1\" class=\"dataframe\">\n",
       "  <thead>\n",
       "    <tr style=\"text-align: right;\">\n",
       "      <th></th>\n",
       "      <th>state_id</th>\n",
       "      <th>domain</th>\n",
       "      <th>entity_id</th>\n",
       "      <th>state</th>\n",
       "      <th>attributes</th>\n",
       "      <th>event_id</th>\n",
       "      <th>last_changed</th>\n",
       "      <th>last_updated</th>\n",
       "      <th>created</th>\n",
       "      <th>context_id</th>\n",
       "      <th>context_user_id</th>\n",
       "    </tr>\n",
       "  </thead>\n",
       "  <tbody>\n",
       "    <tr>\n",
       "      <th>0</th>\n",
       "      <td>1931962</td>\n",
       "      <td>sensor</td>\n",
       "      <td>sensor.dryer_socket_power</td>\n",
       "      <td>0</td>\n",
       "      <td>{\"state\": \"ON\", \"linkquality\": 57, \"power\": 0,...</td>\n",
       "      <td>1942768</td>\n",
       "      <td>2019-07-21 04:38:47.303736</td>\n",
       "      <td>2019-07-24 19:33:37.798263</td>\n",
       "      <td>2019-07-24 19:33:37.821549</td>\n",
       "      <td>cf7353960a7c49e7ac1699e6b64656a2</td>\n",
       "      <td>NaN</td>\n",
       "    </tr>\n",
       "    <tr>\n",
       "      <th>1</th>\n",
       "      <td>1931963</td>\n",
       "      <td>sensor</td>\n",
       "      <td>sensor.dryer_socket_linkquality</td>\n",
       "      <td>57</td>\n",
       "      <td>{\"state\": \"ON\", \"linkquality\": 57, \"power\": 0,...</td>\n",
       "      <td>1942769</td>\n",
       "      <td>2019-07-24 19:32:55.819964</td>\n",
       "      <td>2019-07-24 19:33:37.799644</td>\n",
       "      <td>2019-07-24 19:33:37.908586</td>\n",
       "      <td>32c911f3a9154eea8d4f174d5f8f828a</td>\n",
       "      <td>NaN</td>\n",
       "    </tr>\n",
       "    <tr>\n",
       "      <th>2</th>\n",
       "      <td>1931964</td>\n",
       "      <td>sensor</td>\n",
       "      <td>sensor.washingmachine_socket_power</td>\n",
       "      <td>0</td>\n",
       "      <td>{\"state\": \"ON\", \"linkquality\": 57, \"voltage\": ...</td>\n",
       "      <td>1942770</td>\n",
       "      <td>2019-07-24 18:02:24.087474</td>\n",
       "      <td>2019-07-24 19:33:47.121706</td>\n",
       "      <td>2019-07-24 19:33:47.143400</td>\n",
       "      <td>9b8d33371d3f45e9af48c060a810673f</td>\n",
       "      <td>NaN</td>\n",
       "    </tr>\n",
       "    <tr>\n",
       "      <th>3</th>\n",
       "      <td>1931965</td>\n",
       "      <td>sensor</td>\n",
       "      <td>sensor.washingmachine_socket_linkquality</td>\n",
       "      <td>57</td>\n",
       "      <td>{\"state\": \"ON\", \"linkquality\": 57, \"voltage\": ...</td>\n",
       "      <td>1942771</td>\n",
       "      <td>2019-07-24 19:32:23.148088</td>\n",
       "      <td>2019-07-24 19:33:47.123111</td>\n",
       "      <td>2019-07-24 19:33:47.265248</td>\n",
       "      <td>eb14a5614eaa44008b4a08ea5f1f13fa</td>\n",
       "      <td>NaN</td>\n",
       "    </tr>\n",
       "    <tr>\n",
       "      <th>4</th>\n",
       "      <td>1931966</td>\n",
       "      <td>sensor</td>\n",
       "      <td>sensor.processor_use</td>\n",
       "      <td>3</td>\n",
       "      <td>{\"unit_of_measurement\": \"%\", \"friendly_name\": ...</td>\n",
       "      <td>1942772</td>\n",
       "      <td>2019-07-24 19:33:49.020545</td>\n",
       "      <td>2019-07-24 19:33:49.020545</td>\n",
       "      <td>2019-07-24 19:33:49.041531</td>\n",
       "      <td>256fa087f58c4aca9633b31a32823098</td>\n",
       "      <td>NaN</td>\n",
       "    </tr>\n",
       "    <tr>\n",
       "      <th>5</th>\n",
       "      <td>1931967</td>\n",
       "      <td>sensor</td>\n",
       "      <td>sensor.memory_use_percent</td>\n",
       "      <td>29.9</td>\n",
       "      <td>{\"unit_of_measurement\": \"%\", \"friendly_name\": ...</td>\n",
       "      <td>1942773</td>\n",
       "      <td>2019-07-24 19:33:49.027893</td>\n",
       "      <td>2019-07-24 19:33:49.027893</td>\n",
       "      <td>2019-07-24 19:33:49.153862</td>\n",
       "      <td>ffbf575243d6402b8617f563a9196317</td>\n",
       "      <td>NaN</td>\n",
       "    </tr>\n",
       "    <tr>\n",
       "      <th>6</th>\n",
       "      <td>1931968</td>\n",
       "      <td>sensor</td>\n",
       "      <td>sensor.washingmachine_socket_power</td>\n",
       "      <td>0</td>\n",
       "      <td>{\"state\": \"ON\", \"linkquality\": 57, \"voltage\": ...</td>\n",
       "      <td>1942774</td>\n",
       "      <td>2019-07-24 18:02:24.087474</td>\n",
       "      <td>2019-07-24 19:34:01.118387</td>\n",
       "      <td>2019-07-24 19:34:01.138624</td>\n",
       "      <td>fceb2bd2994f409ebc4111e3fcec5b49</td>\n",
       "      <td>NaN</td>\n",
       "    </tr>\n",
       "    <tr>\n",
       "      <th>7</th>\n",
       "      <td>1931969</td>\n",
       "      <td>sensor</td>\n",
       "      <td>sensor.washingmachine_socket_linkquality</td>\n",
       "      <td>57</td>\n",
       "      <td>{\"state\": \"ON\", \"linkquality\": 57, \"voltage\": ...</td>\n",
       "      <td>1942775</td>\n",
       "      <td>2019-07-24 19:32:23.148088</td>\n",
       "      <td>2019-07-24 19:34:01.119775</td>\n",
       "      <td>2019-07-24 19:34:01.226362</td>\n",
       "      <td>f6608a6ccc17462285470d43e283deb1</td>\n",
       "      <td>NaN</td>\n",
       "    </tr>\n",
       "    <tr>\n",
       "      <th>8</th>\n",
       "      <td>1931970</td>\n",
       "      <td>sensor</td>\n",
       "      <td>sensor.washingmachine_socket_power</td>\n",
       "      <td>0</td>\n",
       "      <td>{\"state\": \"ON\", \"linkquality\": 57, \"voltage\": ...</td>\n",
       "      <td>1942776</td>\n",
       "      <td>2019-07-24 18:02:24.087474</td>\n",
       "      <td>2019-07-24 19:34:15.127178</td>\n",
       "      <td>2019-07-24 19:34:15.149579</td>\n",
       "      <td>3449e19dbbb143b997e3af61c2e9bd84</td>\n",
       "      <td>NaN</td>\n",
       "    </tr>\n",
       "    <tr>\n",
       "      <th>9</th>\n",
       "      <td>1931971</td>\n",
       "      <td>sensor</td>\n",
       "      <td>sensor.washingmachine_socket_linkquality</td>\n",
       "      <td>57</td>\n",
       "      <td>{\"state\": \"ON\", \"linkquality\": 57, \"voltage\": ...</td>\n",
       "      <td>1942777</td>\n",
       "      <td>2019-07-24 19:32:23.148088</td>\n",
       "      <td>2019-07-24 19:34:15.129666</td>\n",
       "      <td>2019-07-24 19:34:15.281199</td>\n",
       "      <td>8e13384e7f8b4d6190a80c37da441085</td>\n",
       "      <td>NaN</td>\n",
       "    </tr>\n",
       "    <tr>\n",
       "      <th>10</th>\n",
       "      <td>1931972</td>\n",
       "      <td>sensor</td>\n",
       "      <td>sensor.memory_use_percent</td>\n",
       "      <td>29.2</td>\n",
       "      <td>{\"unit_of_measurement\": \"%\", \"friendly_name\": ...</td>\n",
       "      <td>1942778</td>\n",
       "      <td>2019-07-24 19:34:20.012250</td>\n",
       "      <td>2019-07-24 19:34:20.012250</td>\n",
       "      <td>2019-07-24 19:34:20.034968</td>\n",
       "      <td>6c2aced663de4e98baabb6526e48c848</td>\n",
       "      <td>NaN</td>\n",
       "    </tr>\n",
       "    <tr>\n",
       "      <th>11</th>\n",
       "      <td>1931973</td>\n",
       "      <td>sensor</td>\n",
       "      <td>sensor.processor_use</td>\n",
       "      <td>2</td>\n",
       "      <td>{\"unit_of_measurement\": \"%\", \"friendly_name\": ...</td>\n",
       "      <td>1942779</td>\n",
       "      <td>2019-07-24 19:34:20.027853</td>\n",
       "      <td>2019-07-24 19:34:20.027853</td>\n",
       "      <td>2019-07-24 19:34:20.136887</td>\n",
       "      <td>854cb2bbd74e4404a2eae1b62c8cd1bd</td>\n",
       "      <td>NaN</td>\n",
       "    </tr>\n",
       "    <tr>\n",
       "      <th>12</th>\n",
       "      <td>1931974</td>\n",
       "      <td>sensor</td>\n",
       "      <td>sensor.washingmachine_socket_power</td>\n",
       "      <td>0</td>\n",
       "      <td>{\"state\": \"ON\", \"linkquality\": 7, \"voltage\": 2...</td>\n",
       "      <td>1942780</td>\n",
       "      <td>2019-07-24 18:02:24.087474</td>\n",
       "      <td>2019-07-24 19:34:29.125914</td>\n",
       "      <td>2019-07-24 19:34:29.146969</td>\n",
       "      <td>a388b55b812740fb9de2cee5ecac5975</td>\n",
       "      <td>NaN</td>\n",
       "    </tr>\n",
       "    <tr>\n",
       "      <th>13</th>\n",
       "      <td>1931975</td>\n",
       "      <td>sensor</td>\n",
       "      <td>sensor.washingmachine_socket_linkquality</td>\n",
       "      <td>57</td>\n",
       "      <td>{\"state\": \"ON\", \"linkquality\": 7, \"voltage\": 2...</td>\n",
       "      <td>1942781</td>\n",
       "      <td>2019-07-24 19:32:23.148088</td>\n",
       "      <td>2019-07-24 19:34:29.127239</td>\n",
       "      <td>2019-07-24 19:34:29.280576</td>\n",
       "      <td>0e90901fca104861b8303830afcffff0</td>\n",
       "      <td>NaN</td>\n",
       "    </tr>\n",
       "    <tr>\n",
       "      <th>14</th>\n",
       "      <td>1931976</td>\n",
       "      <td>sensor</td>\n",
       "      <td>sensor.washingmachine_socket_linkquality</td>\n",
       "      <td>7</td>\n",
       "      <td>{\"state\": \"ON\", \"linkquality\": 7, \"voltage\": 2...</td>\n",
       "      <td>1942782</td>\n",
       "      <td>2019-07-24 19:34:29.133632</td>\n",
       "      <td>2019-07-24 19:34:29.133632</td>\n",
       "      <td>2019-07-24 19:34:29.388708</td>\n",
       "      <td>5e0d2e5835c24b78b2ee74a0e15739e4</td>\n",
       "      <td>NaN</td>\n",
       "    </tr>\n",
       "    <tr>\n",
       "      <th>15</th>\n",
       "      <td>1931977</td>\n",
       "      <td>sensor</td>\n",
       "      <td>sensor.processor_use</td>\n",
       "      <td>3</td>\n",
       "      <td>{\"unit_of_measurement\": \"%\", \"friendly_name\": ...</td>\n",
       "      <td>1942783</td>\n",
       "      <td>2019-07-24 19:34:51.013132</td>\n",
       "      <td>2019-07-24 19:34:51.013132</td>\n",
       "      <td>2019-07-24 19:34:51.041140</td>\n",
       "      <td>d1e01312f1d142d1954e718ee2681054</td>\n",
       "      <td>NaN</td>\n",
       "    </tr>\n",
       "    <tr>\n",
       "      <th>16</th>\n",
       "      <td>1931978</td>\n",
       "      <td>sensor</td>\n",
       "      <td>sensor.memory_use_percent</td>\n",
       "      <td>29.9</td>\n",
       "      <td>{\"unit_of_measurement\": \"%\", \"friendly_name\": ...</td>\n",
       "      <td>1942784</td>\n",
       "      <td>2019-07-24 19:34:51.026099</td>\n",
       "      <td>2019-07-24 19:34:51.026099</td>\n",
       "      <td>2019-07-24 19:34:51.211919</td>\n",
       "      <td>d4e624cd65f74015b558f74ca8f855e4</td>\n",
       "      <td>NaN</td>\n",
       "    </tr>\n",
       "    <tr>\n",
       "      <th>17</th>\n",
       "      <td>1931979</td>\n",
       "      <td>sensor</td>\n",
       "      <td>sensor.washingmachine_socket_power</td>\n",
       "      <td>0</td>\n",
       "      <td>{\"state\": \"ON\", \"linkquality\": 7, \"voltage\": 2...</td>\n",
       "      <td>1942785</td>\n",
       "      <td>2019-07-24 18:02:24.087474</td>\n",
       "      <td>2019-07-24 19:34:57.117775</td>\n",
       "      <td>2019-07-24 19:34:57.138234</td>\n",
       "      <td>8cabeba59f2c4325a44a2943f8317982</td>\n",
       "      <td>NaN</td>\n",
       "    </tr>\n",
       "    <tr>\n",
       "      <th>18</th>\n",
       "      <td>1931980</td>\n",
       "      <td>sensor</td>\n",
       "      <td>sensor.washingmachine_socket_linkquality</td>\n",
       "      <td>7</td>\n",
       "      <td>{\"state\": \"ON\", \"linkquality\": 7, \"voltage\": 2...</td>\n",
       "      <td>1942786</td>\n",
       "      <td>2019-07-24 19:34:29.133632</td>\n",
       "      <td>2019-07-24 19:34:57.119150</td>\n",
       "      <td>2019-07-24 19:34:57.354207</td>\n",
       "      <td>3dcf877e05e040f7843fb2bccc19c5d5</td>\n",
       "      <td>NaN</td>\n",
       "    </tr>\n",
       "    <tr>\n",
       "      <th>19</th>\n",
       "      <td>1931981</td>\n",
       "      <td>sun</td>\n",
       "      <td>sun.sun</td>\n",
       "      <td>below_horizon</td>\n",
       "      <td>{\"next_dawn\": \"2019-07-25T02:37:02+00:00\", \"ne...</td>\n",
       "      <td>1942787</td>\n",
       "      <td>2019-07-24 19:35:22.007283</td>\n",
       "      <td>2019-07-24 19:35:22.007283</td>\n",
       "      <td>2019-07-24 19:35:22.030116</td>\n",
       "      <td>471fef7d231647afb78f107c014702dc</td>\n",
       "      <td>NaN</td>\n",
       "    </tr>\n",
       "    <tr>\n",
       "      <th>20</th>\n",
       "      <td>1931982</td>\n",
       "      <td>sensor</td>\n",
       "      <td>sensor.memory_use_percent</td>\n",
       "      <td>29.3</td>\n",
       "      <td>{\"unit_of_measurement\": \"%\", \"friendly_name\": ...</td>\n",
       "      <td>1942788</td>\n",
       "      <td>2019-07-24 19:35:22.037195</td>\n",
       "      <td>2019-07-24 19:35:22.037195</td>\n",
       "      <td>2019-07-24 19:35:22.204942</td>\n",
       "      <td>b3ea9355840d4beb99d2cc300b34f7ad</td>\n",
       "      <td>NaN</td>\n",
       "    </tr>\n",
       "    <tr>\n",
       "      <th>21</th>\n",
       "      <td>1931983</td>\n",
       "      <td>sensor</td>\n",
       "      <td>sensor.processor_use</td>\n",
       "      <td>2</td>\n",
       "      <td>{\"unit_of_measurement\": \"%\", \"friendly_name\": ...</td>\n",
       "      <td>1942789</td>\n",
       "      <td>2019-07-24 19:35:22.040188</td>\n",
       "      <td>2019-07-24 19:35:22.040188</td>\n",
       "      <td>2019-07-24 19:35:22.326191</td>\n",
       "      <td>deb0ff6979f241bc8144c2758f0742e0</td>\n",
       "      <td>NaN</td>\n",
       "    </tr>\n",
       "    <tr>\n",
       "      <th>22</th>\n",
       "      <td>1931984</td>\n",
       "      <td>sensor</td>\n",
       "      <td>sensor.washingmachine_socket_power</td>\n",
       "      <td>0</td>\n",
       "      <td>{\"state\": \"ON\", \"linkquality\": 7, \"voltage\": 2...</td>\n",
       "      <td>1942790</td>\n",
       "      <td>2019-07-24 18:02:24.087474</td>\n",
       "      <td>2019-07-24 19:35:39.121214</td>\n",
       "      <td>2019-07-24 19:35:39.142118</td>\n",
       "      <td>aaf0dba2ffe3489a8814bcbdfa5165fe</td>\n",
       "      <td>NaN</td>\n",
       "    </tr>\n",
       "    <tr>\n",
       "      <th>23</th>\n",
       "      <td>1931985</td>\n",
       "      <td>sensor</td>\n",
       "      <td>sensor.washingmachine_socket_linkquality</td>\n",
       "      <td>7</td>\n",
       "      <td>{\"state\": \"ON\", \"linkquality\": 7, \"voltage\": 2...</td>\n",
       "      <td>1942791</td>\n",
       "      <td>2019-07-24 19:34:29.133632</td>\n",
       "      <td>2019-07-24 19:35:39.122503</td>\n",
       "      <td>2019-07-24 19:35:39.330607</td>\n",
       "      <td>fbeb5c4d42d54304ac761af4d2a9e71e</td>\n",
       "      <td>NaN</td>\n",
       "    </tr>\n",
       "    <tr>\n",
       "      <th>24</th>\n",
       "      <td>1931986</td>\n",
       "      <td>sensor</td>\n",
       "      <td>sensor.memory_use_percent</td>\n",
       "      <td>29.2</td>\n",
       "      <td>{\"unit_of_measurement\": \"%\", \"friendly_name\": ...</td>\n",
       "      <td>1942792</td>\n",
       "      <td>2019-07-24 19:35:53.018614</td>\n",
       "      <td>2019-07-24 19:35:53.018614</td>\n",
       "      <td>2019-07-24 19:35:53.034764</td>\n",
       "      <td>954ba40b106a46bbaa8df0b95226df0a</td>\n",
       "      <td>NaN</td>\n",
       "    </tr>\n",
       "    <tr>\n",
       "      <th>25</th>\n",
       "      <td>1931987</td>\n",
       "      <td>sensor</td>\n",
       "      <td>sensor.washingmachine_socket_power</td>\n",
       "      <td>0</td>\n",
       "      <td>{\"state\": \"ON\", \"linkquality\": 7, \"voltage\": 2...</td>\n",
       "      <td>1942793</td>\n",
       "      <td>2019-07-24 18:02:24.087474</td>\n",
       "      <td>2019-07-24 19:35:53.137769</td>\n",
       "      <td>2019-07-24 19:35:53.163490</td>\n",
       "      <td>435beec444be4e97852440b9d1a1131d</td>\n",
       "      <td>NaN</td>\n",
       "    </tr>\n",
       "    <tr>\n",
       "      <th>26</th>\n",
       "      <td>1931988</td>\n",
       "      <td>sensor</td>\n",
       "      <td>sensor.washingmachine_socket_linkquality</td>\n",
       "      <td>7</td>\n",
       "      <td>{\"state\": \"ON\", \"linkquality\": 7, \"voltage\": 2...</td>\n",
       "      <td>1942794</td>\n",
       "      <td>2019-07-24 19:34:29.133632</td>\n",
       "      <td>2019-07-24 19:35:53.139235</td>\n",
       "      <td>2019-07-24 19:35:53.332188</td>\n",
       "      <td>10a16db15f93445da9798db9f5e64a42</td>\n",
       "      <td>NaN</td>\n",
       "    </tr>\n",
       "    <tr>\n",
       "      <th>27</th>\n",
       "      <td>1931989</td>\n",
       "      <td>sensor</td>\n",
       "      <td>sensor.dryer_socket_power</td>\n",
       "      <td>0</td>\n",
       "      <td>{\"state\": \"ON\", \"linkquality\": 0, \"power\": 0, ...</td>\n",
       "      <td>1942795</td>\n",
       "      <td>2019-07-21 04:38:47.303736</td>\n",
       "      <td>2019-07-24 19:36:09.806640</td>\n",
       "      <td>2019-07-24 19:36:09.830836</td>\n",
       "      <td>9b13bdcd9bc74a61b89e2e618d4ae9d8</td>\n",
       "      <td>NaN</td>\n",
       "    </tr>\n",
       "    <tr>\n",
       "      <th>28</th>\n",
       "      <td>1931990</td>\n",
       "      <td>sensor</td>\n",
       "      <td>sensor.dryer_socket_linkquality</td>\n",
       "      <td>57</td>\n",
       "      <td>{\"state\": \"ON\", \"linkquality\": 0, \"power\": 0, ...</td>\n",
       "      <td>1942796</td>\n",
       "      <td>2019-07-24 19:32:55.819964</td>\n",
       "      <td>2019-07-24 19:36:09.807947</td>\n",
       "      <td>2019-07-24 19:36:09.948761</td>\n",
       "      <td>55d9db06f1334128b20ab9eec84805f8</td>\n",
       "      <td>NaN</td>\n",
       "    </tr>\n",
       "    <tr>\n",
       "      <th>29</th>\n",
       "      <td>1931991</td>\n",
       "      <td>sensor</td>\n",
       "      <td>sensor.dryer_socket_linkquality</td>\n",
       "      <td>0</td>\n",
       "      <td>{\"state\": \"ON\", \"linkquality\": 0, \"power\": 0, ...</td>\n",
       "      <td>1942797</td>\n",
       "      <td>2019-07-24 19:36:09.815732</td>\n",
       "      <td>2019-07-24 19:36:09.815732</td>\n",
       "      <td>2019-07-24 19:36:10.111258</td>\n",
       "      <td>13611ba2e1dc4e61853a2915c884858e</td>\n",
       "      <td>NaN</td>\n",
       "    </tr>\n",
       "    <tr>\n",
       "      <th>...</th>\n",
       "      <td>...</td>\n",
       "      <td>...</td>\n",
       "      <td>...</td>\n",
       "      <td>...</td>\n",
       "      <td>...</td>\n",
       "      <td>...</td>\n",
       "      <td>...</td>\n",
       "      <td>...</td>\n",
       "      <td>...</td>\n",
       "      <td>...</td>\n",
       "      <td>...</td>\n",
       "    </tr>\n",
       "    <tr>\n",
       "      <th>374669</th>\n",
       "      <td>2310620</td>\n",
       "      <td>sensor</td>\n",
       "      <td>sensor.aircleaner_socket_linkquality</td>\n",
       "      <td>63</td>\n",
       "      <td>{\"state\": \"ON\", \"linkquality\": 63, \"power\": 3,...</td>\n",
       "      <td>2321613</td>\n",
       "      <td>2019-08-04 08:47:32.113458</td>\n",
       "      <td>2019-08-04 08:47:32.113458</td>\n",
       "      <td>2019-08-04 08:47:33.052842</td>\n",
       "      <td>f6f3a9779a3c44d186c4691c943ae6ff</td>\n",
       "      <td>NaN</td>\n",
       "    </tr>\n",
       "    <tr>\n",
       "      <th>374670</th>\n",
       "      <td>2310621</td>\n",
       "      <td>sensor</td>\n",
       "      <td>sensor.dehumidifier_socket_power</td>\n",
       "      <td>292</td>\n",
       "      <td>{\"state\": \"ON\", \"linkquality\": 60, \"power\": 29...</td>\n",
       "      <td>2321614</td>\n",
       "      <td>2019-08-04 08:47:32.061176</td>\n",
       "      <td>2019-08-04 08:47:37.051076</td>\n",
       "      <td>2019-08-04 08:47:37.084102</td>\n",
       "      <td>9ab41150693c4d52b826525fd47680ae</td>\n",
       "      <td>NaN</td>\n",
       "    </tr>\n",
       "    <tr>\n",
       "      <th>374671</th>\n",
       "      <td>2310622</td>\n",
       "      <td>sensor</td>\n",
       "      <td>sensor.dehumidifier_socket_linkquality</td>\n",
       "      <td>60</td>\n",
       "      <td>{\"state\": \"ON\", \"linkquality\": 60, \"power\": 29...</td>\n",
       "      <td>2321615</td>\n",
       "      <td>2019-08-04 08:47:32.063239</td>\n",
       "      <td>2019-08-04 08:47:37.052644</td>\n",
       "      <td>2019-08-04 08:47:37.255568</td>\n",
       "      <td>b3dc1846eeb64b4fa83e73a8585e1e72</td>\n",
       "      <td>NaN</td>\n",
       "    </tr>\n",
       "    <tr>\n",
       "      <th>374672</th>\n",
       "      <td>2310623</td>\n",
       "      <td>sensor</td>\n",
       "      <td>sensor.dehumidifier_socket_power</td>\n",
       "      <td>295</td>\n",
       "      <td>{\"state\": \"ON\", \"linkquality\": 60, \"power\": 29...</td>\n",
       "      <td>2321616</td>\n",
       "      <td>2019-08-04 08:47:37.059442</td>\n",
       "      <td>2019-08-04 08:47:37.059442</td>\n",
       "      <td>2019-08-04 08:47:37.381502</td>\n",
       "      <td>80a7518ea55e424c9a4aa6909ddbd7e2</td>\n",
       "      <td>NaN</td>\n",
       "    </tr>\n",
       "    <tr>\n",
       "      <th>374673</th>\n",
       "      <td>2310624</td>\n",
       "      <td>sun</td>\n",
       "      <td>sun.sun</td>\n",
       "      <td>above_horizon</td>\n",
       "      <td>{\"next_dawn\": \"2019-08-05T02:58:12+00:00\", \"ne...</td>\n",
       "      <td>2321617</td>\n",
       "      <td>2019-08-04 03:39:15.022073</td>\n",
       "      <td>2019-08-04 08:47:38.007119</td>\n",
       "      <td>2019-08-04 08:47:38.040470</td>\n",
       "      <td>804d6353484040c1b1ad85cd4085563d</td>\n",
       "      <td>NaN</td>\n",
       "    </tr>\n",
       "    <tr>\n",
       "      <th>374674</th>\n",
       "      <td>2310625</td>\n",
       "      <td>sensor</td>\n",
       "      <td>sensor.dehumidifier_socket_power</td>\n",
       "      <td>295</td>\n",
       "      <td>{\"state\": \"ON\", \"linkquality\": 18, \"power\": 29...</td>\n",
       "      <td>2321618</td>\n",
       "      <td>2019-08-04 08:47:37.059442</td>\n",
       "      <td>2019-08-04 08:47:38.062777</td>\n",
       "      <td>2019-08-04 08:47:38.171230</td>\n",
       "      <td>1e027977759646da9d446f7d4748aeed</td>\n",
       "      <td>NaN</td>\n",
       "    </tr>\n",
       "    <tr>\n",
       "      <th>374675</th>\n",
       "      <td>2310626</td>\n",
       "      <td>sensor</td>\n",
       "      <td>sensor.dehumidifier_socket_linkquality</td>\n",
       "      <td>60</td>\n",
       "      <td>{\"state\": \"ON\", \"linkquality\": 18, \"power\": 29...</td>\n",
       "      <td>2321619</td>\n",
       "      <td>2019-08-04 08:47:32.063239</td>\n",
       "      <td>2019-08-04 08:47:38.064649</td>\n",
       "      <td>2019-08-04 08:47:38.329637</td>\n",
       "      <td>8ed84b354e274eb38855db04bdc06af1</td>\n",
       "      <td>NaN</td>\n",
       "    </tr>\n",
       "    <tr>\n",
       "      <th>374676</th>\n",
       "      <td>2310627</td>\n",
       "      <td>sensor</td>\n",
       "      <td>sensor.dehumidifier_socket_power</td>\n",
       "      <td>292</td>\n",
       "      <td>{\"state\": \"ON\", \"linkquality\": 18, \"power\": 29...</td>\n",
       "      <td>2321620</td>\n",
       "      <td>2019-08-04 08:47:38.073334</td>\n",
       "      <td>2019-08-04 08:47:38.073334</td>\n",
       "      <td>2019-08-04 08:47:38.506250</td>\n",
       "      <td>a71e71c4cba6497ca7e5397eee709a1b</td>\n",
       "      <td>NaN</td>\n",
       "    </tr>\n",
       "    <tr>\n",
       "      <th>374677</th>\n",
       "      <td>2310628</td>\n",
       "      <td>sensor</td>\n",
       "      <td>sensor.dehumidifier_socket_linkquality</td>\n",
       "      <td>18</td>\n",
       "      <td>{\"state\": \"ON\", \"linkquality\": 18, \"power\": 29...</td>\n",
       "      <td>2321621</td>\n",
       "      <td>2019-08-04 08:47:38.075165</td>\n",
       "      <td>2019-08-04 08:47:38.075165</td>\n",
       "      <td>2019-08-04 08:47:38.656702</td>\n",
       "      <td>73b195ccb9854c68a1ee5f913cafd884</td>\n",
       "      <td>NaN</td>\n",
       "    </tr>\n",
       "    <tr>\n",
       "      <th>374678</th>\n",
       "      <td>2310629</td>\n",
       "      <td>sensor</td>\n",
       "      <td>sensor.dehumidifier_socket_power</td>\n",
       "      <td>292</td>\n",
       "      <td>{\"state\": \"ON\", \"linkquality\": 18, \"power\": 29...</td>\n",
       "      <td>2321622</td>\n",
       "      <td>2019-08-04 08:47:38.073334</td>\n",
       "      <td>2019-08-04 08:47:42.046768</td>\n",
       "      <td>2019-08-04 08:47:42.080786</td>\n",
       "      <td>51ecebc47fc54bd3b3e0a92494149ba9</td>\n",
       "      <td>NaN</td>\n",
       "    </tr>\n",
       "    <tr>\n",
       "      <th>374679</th>\n",
       "      <td>2310630</td>\n",
       "      <td>sensor</td>\n",
       "      <td>sensor.dehumidifier_socket_linkquality</td>\n",
       "      <td>18</td>\n",
       "      <td>{\"state\": \"ON\", \"linkquality\": 18, \"power\": 29...</td>\n",
       "      <td>2321623</td>\n",
       "      <td>2019-08-04 08:47:38.075165</td>\n",
       "      <td>2019-08-04 08:47:42.048569</td>\n",
       "      <td>2019-08-04 08:47:42.261242</td>\n",
       "      <td>5c59f01d6c6a49de9d4d792e58f36f42</td>\n",
       "      <td>NaN</td>\n",
       "    </tr>\n",
       "    <tr>\n",
       "      <th>374680</th>\n",
       "      <td>2310631</td>\n",
       "      <td>sensor</td>\n",
       "      <td>sensor.dehumidifier_socket_power</td>\n",
       "      <td>295</td>\n",
       "      <td>{\"state\": \"ON\", \"linkquality\": 18, \"power\": 29...</td>\n",
       "      <td>2321624</td>\n",
       "      <td>2019-08-04 08:47:42.055155</td>\n",
       "      <td>2019-08-04 08:47:42.055155</td>\n",
       "      <td>2019-08-04 08:47:42.450310</td>\n",
       "      <td>71d7bb8e8d294b898c5e131242456a45</td>\n",
       "      <td>NaN</td>\n",
       "    </tr>\n",
       "    <tr>\n",
       "      <th>374681</th>\n",
       "      <td>2310632</td>\n",
       "      <td>sensor</td>\n",
       "      <td>sensor.dehumidifier_socket_power</td>\n",
       "      <td>295</td>\n",
       "      <td>{\"state\": \"ON\", \"linkquality\": 18, \"power\": 29...</td>\n",
       "      <td>2321625</td>\n",
       "      <td>2019-08-04 08:47:42.055155</td>\n",
       "      <td>2019-08-04 08:47:43.041978</td>\n",
       "      <td>2019-08-04 08:47:43.075413</td>\n",
       "      <td>514ae8ba9c6a4008891877ea5c033eeb</td>\n",
       "      <td>NaN</td>\n",
       "    </tr>\n",
       "    <tr>\n",
       "      <th>374682</th>\n",
       "      <td>2310633</td>\n",
       "      <td>sensor</td>\n",
       "      <td>sensor.dehumidifier_socket_linkquality</td>\n",
       "      <td>18</td>\n",
       "      <td>{\"state\": \"ON\", \"linkquality\": 18, \"power\": 29...</td>\n",
       "      <td>2321626</td>\n",
       "      <td>2019-08-04 08:47:38.075165</td>\n",
       "      <td>2019-08-04 08:47:43.043928</td>\n",
       "      <td>2019-08-04 08:47:43.291245</td>\n",
       "      <td>287c9c4fee8b412ca9b7b733fa5e1ec5</td>\n",
       "      <td>NaN</td>\n",
       "    </tr>\n",
       "    <tr>\n",
       "      <th>374683</th>\n",
       "      <td>2310634</td>\n",
       "      <td>sensor</td>\n",
       "      <td>sensor.dehumidifier_socket_power</td>\n",
       "      <td>292</td>\n",
       "      <td>{\"state\": \"ON\", \"linkquality\": 18, \"power\": 29...</td>\n",
       "      <td>2321627</td>\n",
       "      <td>2019-08-04 08:47:43.050522</td>\n",
       "      <td>2019-08-04 08:47:43.050522</td>\n",
       "      <td>2019-08-04 08:47:43.441567</td>\n",
       "      <td>cfb0a99da4644610a86a21ae9a9b9721</td>\n",
       "      <td>NaN</td>\n",
       "    </tr>\n",
       "    <tr>\n",
       "      <th>374684</th>\n",
       "      <td>2310635</td>\n",
       "      <td>sensor</td>\n",
       "      <td>sensor.dehumidifier_socket_power</td>\n",
       "      <td>292</td>\n",
       "      <td>{\"state\": \"ON\", \"linkquality\": 18, \"power\": 29...</td>\n",
       "      <td>2321628</td>\n",
       "      <td>2019-08-04 08:47:43.050522</td>\n",
       "      <td>2019-08-04 08:47:45.039456</td>\n",
       "      <td>2019-08-04 08:47:45.072336</td>\n",
       "      <td>d78623b7d491450b9fc724d314c9cf87</td>\n",
       "      <td>NaN</td>\n",
       "    </tr>\n",
       "    <tr>\n",
       "      <th>374685</th>\n",
       "      <td>2310636</td>\n",
       "      <td>sensor</td>\n",
       "      <td>sensor.dehumidifier_socket_linkquality</td>\n",
       "      <td>18</td>\n",
       "      <td>{\"state\": \"ON\", \"linkquality\": 18, \"power\": 29...</td>\n",
       "      <td>2321629</td>\n",
       "      <td>2019-08-04 08:47:38.075165</td>\n",
       "      <td>2019-08-04 08:47:45.041172</td>\n",
       "      <td>2019-08-04 08:47:45.228540</td>\n",
       "      <td>a2521446263e44f88005bed60c708613</td>\n",
       "      <td>NaN</td>\n",
       "    </tr>\n",
       "    <tr>\n",
       "      <th>374686</th>\n",
       "      <td>2310637</td>\n",
       "      <td>sensor</td>\n",
       "      <td>sensor.dehumidifier_socket_power</td>\n",
       "      <td>295</td>\n",
       "      <td>{\"state\": \"ON\", \"linkquality\": 18, \"power\": 29...</td>\n",
       "      <td>2321630</td>\n",
       "      <td>2019-08-04 08:47:45.047718</td>\n",
       "      <td>2019-08-04 08:47:45.047718</td>\n",
       "      <td>2019-08-04 08:47:45.420606</td>\n",
       "      <td>96c2d1a16dd94d178b42193dbfdeee17</td>\n",
       "      <td>NaN</td>\n",
       "    </tr>\n",
       "    <tr>\n",
       "      <th>374687</th>\n",
       "      <td>2310638</td>\n",
       "      <td>sensor</td>\n",
       "      <td>sensor.dehumidifier_socket_power</td>\n",
       "      <td>295</td>\n",
       "      <td>{\"state\": \"ON\", \"linkquality\": 18, \"power\": 29...</td>\n",
       "      <td>2321631</td>\n",
       "      <td>2019-08-04 08:47:45.047718</td>\n",
       "      <td>2019-08-04 08:47:46.038242</td>\n",
       "      <td>2019-08-04 08:47:46.072886</td>\n",
       "      <td>5f065e154c9540679bbb9f41f21bfd5c</td>\n",
       "      <td>NaN</td>\n",
       "    </tr>\n",
       "    <tr>\n",
       "      <th>374688</th>\n",
       "      <td>2310639</td>\n",
       "      <td>sensor</td>\n",
       "      <td>sensor.dehumidifier_socket_linkquality</td>\n",
       "      <td>18</td>\n",
       "      <td>{\"state\": \"ON\", \"linkquality\": 18, \"power\": 29...</td>\n",
       "      <td>2321632</td>\n",
       "      <td>2019-08-04 08:47:38.075165</td>\n",
       "      <td>2019-08-04 08:47:46.040101</td>\n",
       "      <td>2019-08-04 08:47:46.262453</td>\n",
       "      <td>2e0855f7d8c547ec975f6e1b8d7180f1</td>\n",
       "      <td>NaN</td>\n",
       "    </tr>\n",
       "    <tr>\n",
       "      <th>374689</th>\n",
       "      <td>2310640</td>\n",
       "      <td>sensor</td>\n",
       "      <td>sensor.dehumidifier_socket_power</td>\n",
       "      <td>290</td>\n",
       "      <td>{\"state\": \"ON\", \"linkquality\": 18, \"power\": 29...</td>\n",
       "      <td>2321633</td>\n",
       "      <td>2019-08-04 08:47:46.047733</td>\n",
       "      <td>2019-08-04 08:47:46.047733</td>\n",
       "      <td>2019-08-04 08:47:46.368997</td>\n",
       "      <td>6706cc08e2b64f24af3a8204a34ee4a8</td>\n",
       "      <td>NaN</td>\n",
       "    </tr>\n",
       "    <tr>\n",
       "      <th>374690</th>\n",
       "      <td>2310641</td>\n",
       "      <td>sensor</td>\n",
       "      <td>sensor.dehumidifier_socket_power</td>\n",
       "      <td>290</td>\n",
       "      <td>{\"state\": \"ON\", \"linkquality\": 18, \"power\": 29...</td>\n",
       "      <td>2321634</td>\n",
       "      <td>2019-08-04 08:47:46.047733</td>\n",
       "      <td>2019-08-04 08:47:47.035110</td>\n",
       "      <td>2019-08-04 08:47:47.070436</td>\n",
       "      <td>6dc4fd0e50e245a79b379d2b2f993851</td>\n",
       "      <td>NaN</td>\n",
       "    </tr>\n",
       "    <tr>\n",
       "      <th>374691</th>\n",
       "      <td>2310642</td>\n",
       "      <td>sensor</td>\n",
       "      <td>sensor.dehumidifier_socket_linkquality</td>\n",
       "      <td>18</td>\n",
       "      <td>{\"state\": \"ON\", \"linkquality\": 18, \"power\": 29...</td>\n",
       "      <td>2321635</td>\n",
       "      <td>2019-08-04 08:47:38.075165</td>\n",
       "      <td>2019-08-04 08:47:47.036752</td>\n",
       "      <td>2019-08-04 08:47:47.216213</td>\n",
       "      <td>f09633a43d8e430b9f9acdb63d1de179</td>\n",
       "      <td>NaN</td>\n",
       "    </tr>\n",
       "    <tr>\n",
       "      <th>374692</th>\n",
       "      <td>2310643</td>\n",
       "      <td>sensor</td>\n",
       "      <td>sensor.dehumidifier_socket_power</td>\n",
       "      <td>295</td>\n",
       "      <td>{\"state\": \"ON\", \"linkquality\": 18, \"power\": 29...</td>\n",
       "      <td>2321636</td>\n",
       "      <td>2019-08-04 08:47:47.044286</td>\n",
       "      <td>2019-08-04 08:47:47.044286</td>\n",
       "      <td>2019-08-04 08:47:47.334902</td>\n",
       "      <td>55514fcd017c41158cecd132e790ea94</td>\n",
       "      <td>NaN</td>\n",
       "    </tr>\n",
       "    <tr>\n",
       "      <th>374693</th>\n",
       "      <td>2310644</td>\n",
       "      <td>sensor</td>\n",
       "      <td>sensor.dehumidifier_socket_power</td>\n",
       "      <td>295</td>\n",
       "      <td>{\"state\": \"ON\", \"linkquality\": 18, \"power\": 29...</td>\n",
       "      <td>2321637</td>\n",
       "      <td>2019-08-04 08:47:47.044286</td>\n",
       "      <td>2019-08-04 08:47:48.030589</td>\n",
       "      <td>2019-08-04 08:47:48.066626</td>\n",
       "      <td>da78523582dc426cab2b49f45b01ccb1</td>\n",
       "      <td>NaN</td>\n",
       "    </tr>\n",
       "    <tr>\n",
       "      <th>374694</th>\n",
       "      <td>2310645</td>\n",
       "      <td>sensor</td>\n",
       "      <td>sensor.dehumidifier_socket_linkquality</td>\n",
       "      <td>18</td>\n",
       "      <td>{\"state\": \"ON\", \"linkquality\": 18, \"power\": 29...</td>\n",
       "      <td>2321638</td>\n",
       "      <td>2019-08-04 08:47:38.075165</td>\n",
       "      <td>2019-08-04 08:47:48.032837</td>\n",
       "      <td>2019-08-04 08:47:48.174225</td>\n",
       "      <td>efcf1758fc834fdea4ece65dfe7cf9ea</td>\n",
       "      <td>NaN</td>\n",
       "    </tr>\n",
       "    <tr>\n",
       "      <th>374695</th>\n",
       "      <td>2310646</td>\n",
       "      <td>sensor</td>\n",
       "      <td>sensor.dehumidifier_socket_power</td>\n",
       "      <td>292</td>\n",
       "      <td>{\"state\": \"ON\", \"linkquality\": 18, \"power\": 29...</td>\n",
       "      <td>2321639</td>\n",
       "      <td>2019-08-04 08:47:48.039958</td>\n",
       "      <td>2019-08-04 08:47:48.039958</td>\n",
       "      <td>2019-08-04 08:47:48.297040</td>\n",
       "      <td>aa9be4cde2f948b68b2d2a14ba409e22</td>\n",
       "      <td>NaN</td>\n",
       "    </tr>\n",
       "    <tr>\n",
       "      <th>374696</th>\n",
       "      <td>2310647</td>\n",
       "      <td>sensor</td>\n",
       "      <td>sensor.dehumidifier_socket_power</td>\n",
       "      <td>292</td>\n",
       "      <td>{\"state\": \"ON\", \"linkquality\": 18, \"power\": 29...</td>\n",
       "      <td>2321640</td>\n",
       "      <td>2019-08-04 08:47:48.039958</td>\n",
       "      <td>2019-08-04 08:47:50.031885</td>\n",
       "      <td>2019-08-04 08:47:50.068246</td>\n",
       "      <td>ff7f489da21b44f6b6d511ba0aad4ddd</td>\n",
       "      <td>NaN</td>\n",
       "    </tr>\n",
       "    <tr>\n",
       "      <th>374697</th>\n",
       "      <td>2310648</td>\n",
       "      <td>sensor</td>\n",
       "      <td>sensor.dehumidifier_socket_linkquality</td>\n",
       "      <td>18</td>\n",
       "      <td>{\"state\": \"ON\", \"linkquality\": 18, \"power\": 29...</td>\n",
       "      <td>2321641</td>\n",
       "      <td>2019-08-04 08:47:38.075165</td>\n",
       "      <td>2019-08-04 08:47:50.033721</td>\n",
       "      <td>2019-08-04 08:47:50.250113</td>\n",
       "      <td>627339b510bc4037826d9bd8531d0996</td>\n",
       "      <td>NaN</td>\n",
       "    </tr>\n",
       "    <tr>\n",
       "      <th>374698</th>\n",
       "      <td>2310649</td>\n",
       "      <td>sensor</td>\n",
       "      <td>sensor.dehumidifier_socket_power</td>\n",
       "      <td>295</td>\n",
       "      <td>{\"state\": \"ON\", \"linkquality\": 18, \"power\": 29...</td>\n",
       "      <td>2321642</td>\n",
       "      <td>2019-08-04 08:47:50.042639</td>\n",
       "      <td>2019-08-04 08:47:50.042639</td>\n",
       "      <td>2019-08-04 08:47:50.349197</td>\n",
       "      <td>f9439154335040209f2c5e4be94f0fe1</td>\n",
       "      <td>NaN</td>\n",
       "    </tr>\n",
       "  </tbody>\n",
       "</table>\n",
       "<p>374699 rows × 11 columns</p>\n",
       "</div>"
      ],
      "text/plain": [
       "        state_id  domain                                 entity_id  \\\n",
       "0        1931962  sensor                 sensor.dryer_socket_power   \n",
       "1        1931963  sensor           sensor.dryer_socket_linkquality   \n",
       "2        1931964  sensor        sensor.washingmachine_socket_power   \n",
       "3        1931965  sensor  sensor.washingmachine_socket_linkquality   \n",
       "4        1931966  sensor                      sensor.processor_use   \n",
       "5        1931967  sensor                 sensor.memory_use_percent   \n",
       "6        1931968  sensor        sensor.washingmachine_socket_power   \n",
       "7        1931969  sensor  sensor.washingmachine_socket_linkquality   \n",
       "8        1931970  sensor        sensor.washingmachine_socket_power   \n",
       "9        1931971  sensor  sensor.washingmachine_socket_linkquality   \n",
       "10       1931972  sensor                 sensor.memory_use_percent   \n",
       "11       1931973  sensor                      sensor.processor_use   \n",
       "12       1931974  sensor        sensor.washingmachine_socket_power   \n",
       "13       1931975  sensor  sensor.washingmachine_socket_linkquality   \n",
       "14       1931976  sensor  sensor.washingmachine_socket_linkquality   \n",
       "15       1931977  sensor                      sensor.processor_use   \n",
       "16       1931978  sensor                 sensor.memory_use_percent   \n",
       "17       1931979  sensor        sensor.washingmachine_socket_power   \n",
       "18       1931980  sensor  sensor.washingmachine_socket_linkquality   \n",
       "19       1931981     sun                                   sun.sun   \n",
       "20       1931982  sensor                 sensor.memory_use_percent   \n",
       "21       1931983  sensor                      sensor.processor_use   \n",
       "22       1931984  sensor        sensor.washingmachine_socket_power   \n",
       "23       1931985  sensor  sensor.washingmachine_socket_linkquality   \n",
       "24       1931986  sensor                 sensor.memory_use_percent   \n",
       "25       1931987  sensor        sensor.washingmachine_socket_power   \n",
       "26       1931988  sensor  sensor.washingmachine_socket_linkquality   \n",
       "27       1931989  sensor                 sensor.dryer_socket_power   \n",
       "28       1931990  sensor           sensor.dryer_socket_linkquality   \n",
       "29       1931991  sensor           sensor.dryer_socket_linkquality   \n",
       "...          ...     ...                                       ...   \n",
       "374669   2310620  sensor      sensor.aircleaner_socket_linkquality   \n",
       "374670   2310621  sensor          sensor.dehumidifier_socket_power   \n",
       "374671   2310622  sensor    sensor.dehumidifier_socket_linkquality   \n",
       "374672   2310623  sensor          sensor.dehumidifier_socket_power   \n",
       "374673   2310624     sun                                   sun.sun   \n",
       "374674   2310625  sensor          sensor.dehumidifier_socket_power   \n",
       "374675   2310626  sensor    sensor.dehumidifier_socket_linkquality   \n",
       "374676   2310627  sensor          sensor.dehumidifier_socket_power   \n",
       "374677   2310628  sensor    sensor.dehumidifier_socket_linkquality   \n",
       "374678   2310629  sensor          sensor.dehumidifier_socket_power   \n",
       "374679   2310630  sensor    sensor.dehumidifier_socket_linkquality   \n",
       "374680   2310631  sensor          sensor.dehumidifier_socket_power   \n",
       "374681   2310632  sensor          sensor.dehumidifier_socket_power   \n",
       "374682   2310633  sensor    sensor.dehumidifier_socket_linkquality   \n",
       "374683   2310634  sensor          sensor.dehumidifier_socket_power   \n",
       "374684   2310635  sensor          sensor.dehumidifier_socket_power   \n",
       "374685   2310636  sensor    sensor.dehumidifier_socket_linkquality   \n",
       "374686   2310637  sensor          sensor.dehumidifier_socket_power   \n",
       "374687   2310638  sensor          sensor.dehumidifier_socket_power   \n",
       "374688   2310639  sensor    sensor.dehumidifier_socket_linkquality   \n",
       "374689   2310640  sensor          sensor.dehumidifier_socket_power   \n",
       "374690   2310641  sensor          sensor.dehumidifier_socket_power   \n",
       "374691   2310642  sensor    sensor.dehumidifier_socket_linkquality   \n",
       "374692   2310643  sensor          sensor.dehumidifier_socket_power   \n",
       "374693   2310644  sensor          sensor.dehumidifier_socket_power   \n",
       "374694   2310645  sensor    sensor.dehumidifier_socket_linkquality   \n",
       "374695   2310646  sensor          sensor.dehumidifier_socket_power   \n",
       "374696   2310647  sensor          sensor.dehumidifier_socket_power   \n",
       "374697   2310648  sensor    sensor.dehumidifier_socket_linkquality   \n",
       "374698   2310649  sensor          sensor.dehumidifier_socket_power   \n",
       "\n",
       "                state                                         attributes  \\\n",
       "0                   0  {\"state\": \"ON\", \"linkquality\": 57, \"power\": 0,...   \n",
       "1                  57  {\"state\": \"ON\", \"linkquality\": 57, \"power\": 0,...   \n",
       "2                   0  {\"state\": \"ON\", \"linkquality\": 57, \"voltage\": ...   \n",
       "3                  57  {\"state\": \"ON\", \"linkquality\": 57, \"voltage\": ...   \n",
       "4                   3  {\"unit_of_measurement\": \"%\", \"friendly_name\": ...   \n",
       "5                29.9  {\"unit_of_measurement\": \"%\", \"friendly_name\": ...   \n",
       "6                   0  {\"state\": \"ON\", \"linkquality\": 57, \"voltage\": ...   \n",
       "7                  57  {\"state\": \"ON\", \"linkquality\": 57, \"voltage\": ...   \n",
       "8                   0  {\"state\": \"ON\", \"linkquality\": 57, \"voltage\": ...   \n",
       "9                  57  {\"state\": \"ON\", \"linkquality\": 57, \"voltage\": ...   \n",
       "10               29.2  {\"unit_of_measurement\": \"%\", \"friendly_name\": ...   \n",
       "11                  2  {\"unit_of_measurement\": \"%\", \"friendly_name\": ...   \n",
       "12                  0  {\"state\": \"ON\", \"linkquality\": 7, \"voltage\": 2...   \n",
       "13                 57  {\"state\": \"ON\", \"linkquality\": 7, \"voltage\": 2...   \n",
       "14                  7  {\"state\": \"ON\", \"linkquality\": 7, \"voltage\": 2...   \n",
       "15                  3  {\"unit_of_measurement\": \"%\", \"friendly_name\": ...   \n",
       "16               29.9  {\"unit_of_measurement\": \"%\", \"friendly_name\": ...   \n",
       "17                  0  {\"state\": \"ON\", \"linkquality\": 7, \"voltage\": 2...   \n",
       "18                  7  {\"state\": \"ON\", \"linkquality\": 7, \"voltage\": 2...   \n",
       "19      below_horizon  {\"next_dawn\": \"2019-07-25T02:37:02+00:00\", \"ne...   \n",
       "20               29.3  {\"unit_of_measurement\": \"%\", \"friendly_name\": ...   \n",
       "21                  2  {\"unit_of_measurement\": \"%\", \"friendly_name\": ...   \n",
       "22                  0  {\"state\": \"ON\", \"linkquality\": 7, \"voltage\": 2...   \n",
       "23                  7  {\"state\": \"ON\", \"linkquality\": 7, \"voltage\": 2...   \n",
       "24               29.2  {\"unit_of_measurement\": \"%\", \"friendly_name\": ...   \n",
       "25                  0  {\"state\": \"ON\", \"linkquality\": 7, \"voltage\": 2...   \n",
       "26                  7  {\"state\": \"ON\", \"linkquality\": 7, \"voltage\": 2...   \n",
       "27                  0  {\"state\": \"ON\", \"linkquality\": 0, \"power\": 0, ...   \n",
       "28                 57  {\"state\": \"ON\", \"linkquality\": 0, \"power\": 0, ...   \n",
       "29                  0  {\"state\": \"ON\", \"linkquality\": 0, \"power\": 0, ...   \n",
       "...               ...                                                ...   \n",
       "374669             63  {\"state\": \"ON\", \"linkquality\": 63, \"power\": 3,...   \n",
       "374670            292  {\"state\": \"ON\", \"linkquality\": 60, \"power\": 29...   \n",
       "374671             60  {\"state\": \"ON\", \"linkquality\": 60, \"power\": 29...   \n",
       "374672            295  {\"state\": \"ON\", \"linkquality\": 60, \"power\": 29...   \n",
       "374673  above_horizon  {\"next_dawn\": \"2019-08-05T02:58:12+00:00\", \"ne...   \n",
       "374674            295  {\"state\": \"ON\", \"linkquality\": 18, \"power\": 29...   \n",
       "374675             60  {\"state\": \"ON\", \"linkquality\": 18, \"power\": 29...   \n",
       "374676            292  {\"state\": \"ON\", \"linkquality\": 18, \"power\": 29...   \n",
       "374677             18  {\"state\": \"ON\", \"linkquality\": 18, \"power\": 29...   \n",
       "374678            292  {\"state\": \"ON\", \"linkquality\": 18, \"power\": 29...   \n",
       "374679             18  {\"state\": \"ON\", \"linkquality\": 18, \"power\": 29...   \n",
       "374680            295  {\"state\": \"ON\", \"linkquality\": 18, \"power\": 29...   \n",
       "374681            295  {\"state\": \"ON\", \"linkquality\": 18, \"power\": 29...   \n",
       "374682             18  {\"state\": \"ON\", \"linkquality\": 18, \"power\": 29...   \n",
       "374683            292  {\"state\": \"ON\", \"linkquality\": 18, \"power\": 29...   \n",
       "374684            292  {\"state\": \"ON\", \"linkquality\": 18, \"power\": 29...   \n",
       "374685             18  {\"state\": \"ON\", \"linkquality\": 18, \"power\": 29...   \n",
       "374686            295  {\"state\": \"ON\", \"linkquality\": 18, \"power\": 29...   \n",
       "374687            295  {\"state\": \"ON\", \"linkquality\": 18, \"power\": 29...   \n",
       "374688             18  {\"state\": \"ON\", \"linkquality\": 18, \"power\": 29...   \n",
       "374689            290  {\"state\": \"ON\", \"linkquality\": 18, \"power\": 29...   \n",
       "374690            290  {\"state\": \"ON\", \"linkquality\": 18, \"power\": 29...   \n",
       "374691             18  {\"state\": \"ON\", \"linkquality\": 18, \"power\": 29...   \n",
       "374692            295  {\"state\": \"ON\", \"linkquality\": 18, \"power\": 29...   \n",
       "374693            295  {\"state\": \"ON\", \"linkquality\": 18, \"power\": 29...   \n",
       "374694             18  {\"state\": \"ON\", \"linkquality\": 18, \"power\": 29...   \n",
       "374695            292  {\"state\": \"ON\", \"linkquality\": 18, \"power\": 29...   \n",
       "374696            292  {\"state\": \"ON\", \"linkquality\": 18, \"power\": 29...   \n",
       "374697             18  {\"state\": \"ON\", \"linkquality\": 18, \"power\": 29...   \n",
       "374698            295  {\"state\": \"ON\", \"linkquality\": 18, \"power\": 29...   \n",
       "\n",
       "        event_id                last_changed                last_updated  \\\n",
       "0        1942768  2019-07-21 04:38:47.303736  2019-07-24 19:33:37.798263   \n",
       "1        1942769  2019-07-24 19:32:55.819964  2019-07-24 19:33:37.799644   \n",
       "2        1942770  2019-07-24 18:02:24.087474  2019-07-24 19:33:47.121706   \n",
       "3        1942771  2019-07-24 19:32:23.148088  2019-07-24 19:33:47.123111   \n",
       "4        1942772  2019-07-24 19:33:49.020545  2019-07-24 19:33:49.020545   \n",
       "5        1942773  2019-07-24 19:33:49.027893  2019-07-24 19:33:49.027893   \n",
       "6        1942774  2019-07-24 18:02:24.087474  2019-07-24 19:34:01.118387   \n",
       "7        1942775  2019-07-24 19:32:23.148088  2019-07-24 19:34:01.119775   \n",
       "8        1942776  2019-07-24 18:02:24.087474  2019-07-24 19:34:15.127178   \n",
       "9        1942777  2019-07-24 19:32:23.148088  2019-07-24 19:34:15.129666   \n",
       "10       1942778  2019-07-24 19:34:20.012250  2019-07-24 19:34:20.012250   \n",
       "11       1942779  2019-07-24 19:34:20.027853  2019-07-24 19:34:20.027853   \n",
       "12       1942780  2019-07-24 18:02:24.087474  2019-07-24 19:34:29.125914   \n",
       "13       1942781  2019-07-24 19:32:23.148088  2019-07-24 19:34:29.127239   \n",
       "14       1942782  2019-07-24 19:34:29.133632  2019-07-24 19:34:29.133632   \n",
       "15       1942783  2019-07-24 19:34:51.013132  2019-07-24 19:34:51.013132   \n",
       "16       1942784  2019-07-24 19:34:51.026099  2019-07-24 19:34:51.026099   \n",
       "17       1942785  2019-07-24 18:02:24.087474  2019-07-24 19:34:57.117775   \n",
       "18       1942786  2019-07-24 19:34:29.133632  2019-07-24 19:34:57.119150   \n",
       "19       1942787  2019-07-24 19:35:22.007283  2019-07-24 19:35:22.007283   \n",
       "20       1942788  2019-07-24 19:35:22.037195  2019-07-24 19:35:22.037195   \n",
       "21       1942789  2019-07-24 19:35:22.040188  2019-07-24 19:35:22.040188   \n",
       "22       1942790  2019-07-24 18:02:24.087474  2019-07-24 19:35:39.121214   \n",
       "23       1942791  2019-07-24 19:34:29.133632  2019-07-24 19:35:39.122503   \n",
       "24       1942792  2019-07-24 19:35:53.018614  2019-07-24 19:35:53.018614   \n",
       "25       1942793  2019-07-24 18:02:24.087474  2019-07-24 19:35:53.137769   \n",
       "26       1942794  2019-07-24 19:34:29.133632  2019-07-24 19:35:53.139235   \n",
       "27       1942795  2019-07-21 04:38:47.303736  2019-07-24 19:36:09.806640   \n",
       "28       1942796  2019-07-24 19:32:55.819964  2019-07-24 19:36:09.807947   \n",
       "29       1942797  2019-07-24 19:36:09.815732  2019-07-24 19:36:09.815732   \n",
       "...          ...                         ...                         ...   \n",
       "374669   2321613  2019-08-04 08:47:32.113458  2019-08-04 08:47:32.113458   \n",
       "374670   2321614  2019-08-04 08:47:32.061176  2019-08-04 08:47:37.051076   \n",
       "374671   2321615  2019-08-04 08:47:32.063239  2019-08-04 08:47:37.052644   \n",
       "374672   2321616  2019-08-04 08:47:37.059442  2019-08-04 08:47:37.059442   \n",
       "374673   2321617  2019-08-04 03:39:15.022073  2019-08-04 08:47:38.007119   \n",
       "374674   2321618  2019-08-04 08:47:37.059442  2019-08-04 08:47:38.062777   \n",
       "374675   2321619  2019-08-04 08:47:32.063239  2019-08-04 08:47:38.064649   \n",
       "374676   2321620  2019-08-04 08:47:38.073334  2019-08-04 08:47:38.073334   \n",
       "374677   2321621  2019-08-04 08:47:38.075165  2019-08-04 08:47:38.075165   \n",
       "374678   2321622  2019-08-04 08:47:38.073334  2019-08-04 08:47:42.046768   \n",
       "374679   2321623  2019-08-04 08:47:38.075165  2019-08-04 08:47:42.048569   \n",
       "374680   2321624  2019-08-04 08:47:42.055155  2019-08-04 08:47:42.055155   \n",
       "374681   2321625  2019-08-04 08:47:42.055155  2019-08-04 08:47:43.041978   \n",
       "374682   2321626  2019-08-04 08:47:38.075165  2019-08-04 08:47:43.043928   \n",
       "374683   2321627  2019-08-04 08:47:43.050522  2019-08-04 08:47:43.050522   \n",
       "374684   2321628  2019-08-04 08:47:43.050522  2019-08-04 08:47:45.039456   \n",
       "374685   2321629  2019-08-04 08:47:38.075165  2019-08-04 08:47:45.041172   \n",
       "374686   2321630  2019-08-04 08:47:45.047718  2019-08-04 08:47:45.047718   \n",
       "374687   2321631  2019-08-04 08:47:45.047718  2019-08-04 08:47:46.038242   \n",
       "374688   2321632  2019-08-04 08:47:38.075165  2019-08-04 08:47:46.040101   \n",
       "374689   2321633  2019-08-04 08:47:46.047733  2019-08-04 08:47:46.047733   \n",
       "374690   2321634  2019-08-04 08:47:46.047733  2019-08-04 08:47:47.035110   \n",
       "374691   2321635  2019-08-04 08:47:38.075165  2019-08-04 08:47:47.036752   \n",
       "374692   2321636  2019-08-04 08:47:47.044286  2019-08-04 08:47:47.044286   \n",
       "374693   2321637  2019-08-04 08:47:47.044286  2019-08-04 08:47:48.030589   \n",
       "374694   2321638  2019-08-04 08:47:38.075165  2019-08-04 08:47:48.032837   \n",
       "374695   2321639  2019-08-04 08:47:48.039958  2019-08-04 08:47:48.039958   \n",
       "374696   2321640  2019-08-04 08:47:48.039958  2019-08-04 08:47:50.031885   \n",
       "374697   2321641  2019-08-04 08:47:38.075165  2019-08-04 08:47:50.033721   \n",
       "374698   2321642  2019-08-04 08:47:50.042639  2019-08-04 08:47:50.042639   \n",
       "\n",
       "                           created                        context_id  \\\n",
       "0       2019-07-24 19:33:37.821549  cf7353960a7c49e7ac1699e6b64656a2   \n",
       "1       2019-07-24 19:33:37.908586  32c911f3a9154eea8d4f174d5f8f828a   \n",
       "2       2019-07-24 19:33:47.143400  9b8d33371d3f45e9af48c060a810673f   \n",
       "3       2019-07-24 19:33:47.265248  eb14a5614eaa44008b4a08ea5f1f13fa   \n",
       "4       2019-07-24 19:33:49.041531  256fa087f58c4aca9633b31a32823098   \n",
       "5       2019-07-24 19:33:49.153862  ffbf575243d6402b8617f563a9196317   \n",
       "6       2019-07-24 19:34:01.138624  fceb2bd2994f409ebc4111e3fcec5b49   \n",
       "7       2019-07-24 19:34:01.226362  f6608a6ccc17462285470d43e283deb1   \n",
       "8       2019-07-24 19:34:15.149579  3449e19dbbb143b997e3af61c2e9bd84   \n",
       "9       2019-07-24 19:34:15.281199  8e13384e7f8b4d6190a80c37da441085   \n",
       "10      2019-07-24 19:34:20.034968  6c2aced663de4e98baabb6526e48c848   \n",
       "11      2019-07-24 19:34:20.136887  854cb2bbd74e4404a2eae1b62c8cd1bd   \n",
       "12      2019-07-24 19:34:29.146969  a388b55b812740fb9de2cee5ecac5975   \n",
       "13      2019-07-24 19:34:29.280576  0e90901fca104861b8303830afcffff0   \n",
       "14      2019-07-24 19:34:29.388708  5e0d2e5835c24b78b2ee74a0e15739e4   \n",
       "15      2019-07-24 19:34:51.041140  d1e01312f1d142d1954e718ee2681054   \n",
       "16      2019-07-24 19:34:51.211919  d4e624cd65f74015b558f74ca8f855e4   \n",
       "17      2019-07-24 19:34:57.138234  8cabeba59f2c4325a44a2943f8317982   \n",
       "18      2019-07-24 19:34:57.354207  3dcf877e05e040f7843fb2bccc19c5d5   \n",
       "19      2019-07-24 19:35:22.030116  471fef7d231647afb78f107c014702dc   \n",
       "20      2019-07-24 19:35:22.204942  b3ea9355840d4beb99d2cc300b34f7ad   \n",
       "21      2019-07-24 19:35:22.326191  deb0ff6979f241bc8144c2758f0742e0   \n",
       "22      2019-07-24 19:35:39.142118  aaf0dba2ffe3489a8814bcbdfa5165fe   \n",
       "23      2019-07-24 19:35:39.330607  fbeb5c4d42d54304ac761af4d2a9e71e   \n",
       "24      2019-07-24 19:35:53.034764  954ba40b106a46bbaa8df0b95226df0a   \n",
       "25      2019-07-24 19:35:53.163490  435beec444be4e97852440b9d1a1131d   \n",
       "26      2019-07-24 19:35:53.332188  10a16db15f93445da9798db9f5e64a42   \n",
       "27      2019-07-24 19:36:09.830836  9b13bdcd9bc74a61b89e2e618d4ae9d8   \n",
       "28      2019-07-24 19:36:09.948761  55d9db06f1334128b20ab9eec84805f8   \n",
       "29      2019-07-24 19:36:10.111258  13611ba2e1dc4e61853a2915c884858e   \n",
       "...                            ...                               ...   \n",
       "374669  2019-08-04 08:47:33.052842  f6f3a9779a3c44d186c4691c943ae6ff   \n",
       "374670  2019-08-04 08:47:37.084102  9ab41150693c4d52b826525fd47680ae   \n",
       "374671  2019-08-04 08:47:37.255568  b3dc1846eeb64b4fa83e73a8585e1e72   \n",
       "374672  2019-08-04 08:47:37.381502  80a7518ea55e424c9a4aa6909ddbd7e2   \n",
       "374673  2019-08-04 08:47:38.040470  804d6353484040c1b1ad85cd4085563d   \n",
       "374674  2019-08-04 08:47:38.171230  1e027977759646da9d446f7d4748aeed   \n",
       "374675  2019-08-04 08:47:38.329637  8ed84b354e274eb38855db04bdc06af1   \n",
       "374676  2019-08-04 08:47:38.506250  a71e71c4cba6497ca7e5397eee709a1b   \n",
       "374677  2019-08-04 08:47:38.656702  73b195ccb9854c68a1ee5f913cafd884   \n",
       "374678  2019-08-04 08:47:42.080786  51ecebc47fc54bd3b3e0a92494149ba9   \n",
       "374679  2019-08-04 08:47:42.261242  5c59f01d6c6a49de9d4d792e58f36f42   \n",
       "374680  2019-08-04 08:47:42.450310  71d7bb8e8d294b898c5e131242456a45   \n",
       "374681  2019-08-04 08:47:43.075413  514ae8ba9c6a4008891877ea5c033eeb   \n",
       "374682  2019-08-04 08:47:43.291245  287c9c4fee8b412ca9b7b733fa5e1ec5   \n",
       "374683  2019-08-04 08:47:43.441567  cfb0a99da4644610a86a21ae9a9b9721   \n",
       "374684  2019-08-04 08:47:45.072336  d78623b7d491450b9fc724d314c9cf87   \n",
       "374685  2019-08-04 08:47:45.228540  a2521446263e44f88005bed60c708613   \n",
       "374686  2019-08-04 08:47:45.420606  96c2d1a16dd94d178b42193dbfdeee17   \n",
       "374687  2019-08-04 08:47:46.072886  5f065e154c9540679bbb9f41f21bfd5c   \n",
       "374688  2019-08-04 08:47:46.262453  2e0855f7d8c547ec975f6e1b8d7180f1   \n",
       "374689  2019-08-04 08:47:46.368997  6706cc08e2b64f24af3a8204a34ee4a8   \n",
       "374690  2019-08-04 08:47:47.070436  6dc4fd0e50e245a79b379d2b2f993851   \n",
       "374691  2019-08-04 08:47:47.216213  f09633a43d8e430b9f9acdb63d1de179   \n",
       "374692  2019-08-04 08:47:47.334902  55514fcd017c41158cecd132e790ea94   \n",
       "374693  2019-08-04 08:47:48.066626  da78523582dc426cab2b49f45b01ccb1   \n",
       "374694  2019-08-04 08:47:48.174225  efcf1758fc834fdea4ece65dfe7cf9ea   \n",
       "374695  2019-08-04 08:47:48.297040  aa9be4cde2f948b68b2d2a14ba409e22   \n",
       "374696  2019-08-04 08:47:50.068246  ff7f489da21b44f6b6d511ba0aad4ddd   \n",
       "374697  2019-08-04 08:47:50.250113  627339b510bc4037826d9bd8531d0996   \n",
       "374698  2019-08-04 08:47:50.349197  f9439154335040209f2c5e4be94f0fe1   \n",
       "\n",
       "       context_user_id  \n",
       "0                  NaN  \n",
       "1                  NaN  \n",
       "2                  NaN  \n",
       "3                  NaN  \n",
       "4                  NaN  \n",
       "5                  NaN  \n",
       "6                  NaN  \n",
       "7                  NaN  \n",
       "8                  NaN  \n",
       "9                  NaN  \n",
       "10                 NaN  \n",
       "11                 NaN  \n",
       "12                 NaN  \n",
       "13                 NaN  \n",
       "14                 NaN  \n",
       "15                 NaN  \n",
       "16                 NaN  \n",
       "17                 NaN  \n",
       "18                 NaN  \n",
       "19                 NaN  \n",
       "20                 NaN  \n",
       "21                 NaN  \n",
       "22                 NaN  \n",
       "23                 NaN  \n",
       "24                 NaN  \n",
       "25                 NaN  \n",
       "26                 NaN  \n",
       "27                 NaN  \n",
       "28                 NaN  \n",
       "29                 NaN  \n",
       "...                ...  \n",
       "374669             NaN  \n",
       "374670             NaN  \n",
       "374671             NaN  \n",
       "374672             NaN  \n",
       "374673             NaN  \n",
       "374674             NaN  \n",
       "374675             NaN  \n",
       "374676             NaN  \n",
       "374677             NaN  \n",
       "374678             NaN  \n",
       "374679             NaN  \n",
       "374680             NaN  \n",
       "374681             NaN  \n",
       "374682             NaN  \n",
       "374683             NaN  \n",
       "374684             NaN  \n",
       "374685             NaN  \n",
       "374686             NaN  \n",
       "374687             NaN  \n",
       "374688             NaN  \n",
       "374689             NaN  \n",
       "374690             NaN  \n",
       "374691             NaN  \n",
       "374692             NaN  \n",
       "374693             NaN  \n",
       "374694             NaN  \n",
       "374695             NaN  \n",
       "374696             NaN  \n",
       "374697             NaN  \n",
       "374698             NaN  \n",
       "\n",
       "[374699 rows x 11 columns]"
      ]
     },
     "execution_count": 5,
     "metadata": {},
     "output_type": "execute_result"
    }
   ],
   "source": [
    "df"
   ]
  },
  {
   "cell_type": "code",
   "execution_count": 6,
   "metadata": {
    "collapsed": true
   },
   "outputs": [],
   "source": [
    "df_dryer_power = df[df['entity_id'] == 'sensor.dryer_socket_power'].copy()"
   ]
  },
  {
   "cell_type": "code",
   "execution_count": 7,
   "metadata": {},
   "outputs": [
    {
     "data": {
      "text/html": [
       "<div>\n",
       "<style scoped>\n",
       "    .dataframe tbody tr th:only-of-type {\n",
       "        vertical-align: middle;\n",
       "    }\n",
       "\n",
       "    .dataframe tbody tr th {\n",
       "        vertical-align: top;\n",
       "    }\n",
       "\n",
       "    .dataframe thead th {\n",
       "        text-align: right;\n",
       "    }\n",
       "</style>\n",
       "<table border=\"1\" class=\"dataframe\">\n",
       "  <thead>\n",
       "    <tr style=\"text-align: right;\">\n",
       "      <th></th>\n",
       "      <th>state_id</th>\n",
       "      <th>domain</th>\n",
       "      <th>entity_id</th>\n",
       "      <th>state</th>\n",
       "      <th>attributes</th>\n",
       "      <th>event_id</th>\n",
       "      <th>last_changed</th>\n",
       "      <th>last_updated</th>\n",
       "      <th>created</th>\n",
       "      <th>context_id</th>\n",
       "      <th>context_user_id</th>\n",
       "    </tr>\n",
       "  </thead>\n",
       "  <tbody>\n",
       "    <tr>\n",
       "      <th>0</th>\n",
       "      <td>1931962</td>\n",
       "      <td>sensor</td>\n",
       "      <td>sensor.dryer_socket_power</td>\n",
       "      <td>0</td>\n",
       "      <td>{\"state\": \"ON\", \"linkquality\": 57, \"power\": 0,...</td>\n",
       "      <td>1942768</td>\n",
       "      <td>2019-07-21 04:38:47.303736</td>\n",
       "      <td>2019-07-24 19:33:37.798263</td>\n",
       "      <td>2019-07-24 19:33:37.821549</td>\n",
       "      <td>cf7353960a7c49e7ac1699e6b64656a2</td>\n",
       "      <td>NaN</td>\n",
       "    </tr>\n",
       "    <tr>\n",
       "      <th>27</th>\n",
       "      <td>1931989</td>\n",
       "      <td>sensor</td>\n",
       "      <td>sensor.dryer_socket_power</td>\n",
       "      <td>0</td>\n",
       "      <td>{\"state\": \"ON\", \"linkquality\": 0, \"power\": 0, ...</td>\n",
       "      <td>1942795</td>\n",
       "      <td>2019-07-21 04:38:47.303736</td>\n",
       "      <td>2019-07-24 19:36:09.806640</td>\n",
       "      <td>2019-07-24 19:36:09.830836</td>\n",
       "      <td>9b13bdcd9bc74a61b89e2e618d4ae9d8</td>\n",
       "      <td>NaN</td>\n",
       "    </tr>\n",
       "    <tr>\n",
       "      <th>39</th>\n",
       "      <td>1932001</td>\n",
       "      <td>sensor</td>\n",
       "      <td>sensor.dryer_socket_power</td>\n",
       "      <td>0</td>\n",
       "      <td>{\"state\": \"ON\", \"linkquality\": 57, \"power\": 0,...</td>\n",
       "      <td>1942807</td>\n",
       "      <td>2019-07-21 04:38:47.303736</td>\n",
       "      <td>2019-07-24 19:37:21.842150</td>\n",
       "      <td>2019-07-24 19:37:21.864949</td>\n",
       "      <td>361b88c01dee441795c36acf32474c33</td>\n",
       "      <td>NaN</td>\n",
       "    </tr>\n",
       "    <tr>\n",
       "      <th>55</th>\n",
       "      <td>1932017</td>\n",
       "      <td>sensor</td>\n",
       "      <td>sensor.dryer_socket_power</td>\n",
       "      <td>0</td>\n",
       "      <td>{\"state\": \"ON\", \"linkquality\": 57, \"power\": 0,...</td>\n",
       "      <td>1942823</td>\n",
       "      <td>2019-07-21 04:38:47.303736</td>\n",
       "      <td>2019-07-24 19:37:49.814017</td>\n",
       "      <td>2019-07-24 19:37:49.836446</td>\n",
       "      <td>7de4c1aaded54c22b4c347ed42045e77</td>\n",
       "      <td>NaN</td>\n",
       "    </tr>\n",
       "    <tr>\n",
       "      <th>58</th>\n",
       "      <td>1932020</td>\n",
       "      <td>sensor</td>\n",
       "      <td>sensor.dryer_socket_power</td>\n",
       "      <td>0</td>\n",
       "      <td>{\"state\": \"ON\", \"linkquality\": 57, \"power\": 0,...</td>\n",
       "      <td>1942826</td>\n",
       "      <td>2019-07-21 04:38:47.303736</td>\n",
       "      <td>2019-07-24 19:38:03.800280</td>\n",
       "      <td>2019-07-24 19:38:03.821925</td>\n",
       "      <td>0a9bd888e4a04b16bc7b508f7ee50465</td>\n",
       "      <td>NaN</td>\n",
       "    </tr>\n",
       "  </tbody>\n",
       "</table>\n",
       "</div>"
      ],
      "text/plain": [
       "    state_id  domain                  entity_id state  \\\n",
       "0    1931962  sensor  sensor.dryer_socket_power     0   \n",
       "27   1931989  sensor  sensor.dryer_socket_power     0   \n",
       "39   1932001  sensor  sensor.dryer_socket_power     0   \n",
       "55   1932017  sensor  sensor.dryer_socket_power     0   \n",
       "58   1932020  sensor  sensor.dryer_socket_power     0   \n",
       "\n",
       "                                           attributes  event_id  \\\n",
       "0   {\"state\": \"ON\", \"linkquality\": 57, \"power\": 0,...   1942768   \n",
       "27  {\"state\": \"ON\", \"linkquality\": 0, \"power\": 0, ...   1942795   \n",
       "39  {\"state\": \"ON\", \"linkquality\": 57, \"power\": 0,...   1942807   \n",
       "55  {\"state\": \"ON\", \"linkquality\": 57, \"power\": 0,...   1942823   \n",
       "58  {\"state\": \"ON\", \"linkquality\": 57, \"power\": 0,...   1942826   \n",
       "\n",
       "                  last_changed                last_updated  \\\n",
       "0   2019-07-21 04:38:47.303736  2019-07-24 19:33:37.798263   \n",
       "27  2019-07-21 04:38:47.303736  2019-07-24 19:36:09.806640   \n",
       "39  2019-07-21 04:38:47.303736  2019-07-24 19:37:21.842150   \n",
       "55  2019-07-21 04:38:47.303736  2019-07-24 19:37:49.814017   \n",
       "58  2019-07-21 04:38:47.303736  2019-07-24 19:38:03.800280   \n",
       "\n",
       "                       created                        context_id  \\\n",
       "0   2019-07-24 19:33:37.821549  cf7353960a7c49e7ac1699e6b64656a2   \n",
       "27  2019-07-24 19:36:09.830836  9b13bdcd9bc74a61b89e2e618d4ae9d8   \n",
       "39  2019-07-24 19:37:21.864949  361b88c01dee441795c36acf32474c33   \n",
       "55  2019-07-24 19:37:49.836446  7de4c1aaded54c22b4c347ed42045e77   \n",
       "58  2019-07-24 19:38:03.821925  0a9bd888e4a04b16bc7b508f7ee50465   \n",
       "\n",
       "   context_user_id  \n",
       "0              NaN  \n",
       "27             NaN  \n",
       "39             NaN  \n",
       "55             NaN  \n",
       "58             NaN  "
      ]
     },
     "execution_count": 7,
     "metadata": {},
     "output_type": "execute_result"
    }
   ],
   "source": [
    "df_dryer_power.head()"
   ]
  },
  {
   "cell_type": "code",
   "execution_count": 8,
   "metadata": {},
   "outputs": [
    {
     "data": {
      "text/plain": [
       "43617"
      ]
     },
     "execution_count": 8,
     "metadata": {},
     "output_type": "execute_result"
    }
   ],
   "source": [
    "len(df_dryer_power)"
   ]
  },
  {
   "cell_type": "code",
   "execution_count": 9,
   "metadata": {},
   "outputs": [
    {
     "data": {
      "text/plain": [
       "state_id            int64\n",
       "domain             object\n",
       "entity_id          object\n",
       "state              object\n",
       "attributes         object\n",
       "event_id            int64\n",
       "last_changed       object\n",
       "last_updated       object\n",
       "created            object\n",
       "context_id         object\n",
       "context_user_id    object\n",
       "dtype: object"
      ]
     },
     "execution_count": 9,
     "metadata": {},
     "output_type": "execute_result"
    }
   ],
   "source": [
    "df_dryer_power.dtypes"
   ]
  },
  {
   "cell_type": "code",
   "execution_count": 10,
   "metadata": {},
   "outputs": [
    {
     "data": {
      "text/plain": [
       "count     43617\n",
       "unique      259\n",
       "top           0\n",
       "freq      16795\n",
       "Name: state, dtype: object"
      ]
     },
     "execution_count": 10,
     "metadata": {},
     "output_type": "execute_result"
    }
   ],
   "source": [
    "df_dryer_power['state'].describe()"
   ]
  },
  {
   "cell_type": "code",
   "execution_count": 11,
   "metadata": {},
   "outputs": [
    {
     "data": {
      "text/plain": [
       "3"
      ]
     },
     "execution_count": 11,
     "metadata": {},
     "output_type": "execute_result"
    }
   ],
   "source": [
    "sum(df_dryer_power['state']=='unknown')"
   ]
  },
  {
   "cell_type": "code",
   "execution_count": 12,
   "metadata": {
    "collapsed": true
   },
   "outputs": [],
   "source": [
    "df_dryer_power = df_dryer_power[df_dryer_power['state']!='unknown'].copy()"
   ]
  },
  {
   "cell_type": "markdown",
   "metadata": {},
   "source": [
    "### Extracting power and timestamps"
   ]
  },
  {
   "cell_type": "code",
   "execution_count": 14,
   "metadata": {
    "collapsed": true
   },
   "outputs": [],
   "source": [
    "df_dryer_power['t'] = pd.to_datetime(df_dryer_power['created'])\n",
    "df_dryer_power['power'] = df_dryer_power['state'].astype(float)"
   ]
  },
  {
   "cell_type": "code",
   "execution_count": 15,
   "metadata": {},
   "outputs": [
    {
     "data": {
      "text/plain": [
       "state_id                    int64\n",
       "domain                     object\n",
       "entity_id                  object\n",
       "state                      object\n",
       "attributes                 object\n",
       "event_id                    int64\n",
       "last_changed               object\n",
       "last_updated               object\n",
       "created                    object\n",
       "context_id                 object\n",
       "context_user_id            object\n",
       "t                  datetime64[ns]\n",
       "power                     float64\n",
       "dtype: object"
      ]
     },
     "execution_count": 15,
     "metadata": {},
     "output_type": "execute_result"
    }
   ],
   "source": [
    "df_dryer_power.dtypes"
   ]
  },
  {
   "cell_type": "code",
   "execution_count": 16,
   "metadata": {},
   "outputs": [
    {
     "data": {
      "text/html": [
       "<div>\n",
       "<style scoped>\n",
       "    .dataframe tbody tr th:only-of-type {\n",
       "        vertical-align: middle;\n",
       "    }\n",
       "\n",
       "    .dataframe tbody tr th {\n",
       "        vertical-align: top;\n",
       "    }\n",
       "\n",
       "    .dataframe thead th {\n",
       "        text-align: right;\n",
       "    }\n",
       "</style>\n",
       "<table border=\"1\" class=\"dataframe\">\n",
       "  <thead>\n",
       "    <tr style=\"text-align: right;\">\n",
       "      <th></th>\n",
       "      <th>state_id</th>\n",
       "      <th>domain</th>\n",
       "      <th>entity_id</th>\n",
       "      <th>state</th>\n",
       "      <th>attributes</th>\n",
       "      <th>event_id</th>\n",
       "      <th>last_changed</th>\n",
       "      <th>last_updated</th>\n",
       "      <th>created</th>\n",
       "      <th>context_id</th>\n",
       "      <th>context_user_id</th>\n",
       "      <th>t</th>\n",
       "      <th>power</th>\n",
       "    </tr>\n",
       "  </thead>\n",
       "  <tbody>\n",
       "    <tr>\n",
       "      <th>0</th>\n",
       "      <td>1931962</td>\n",
       "      <td>sensor</td>\n",
       "      <td>sensor.dryer_socket_power</td>\n",
       "      <td>0</td>\n",
       "      <td>{\"state\": \"ON\", \"linkquality\": 57, \"power\": 0,...</td>\n",
       "      <td>1942768</td>\n",
       "      <td>2019-07-21 04:38:47.303736</td>\n",
       "      <td>2019-07-24 19:33:37.798263</td>\n",
       "      <td>2019-07-24 19:33:37.821549</td>\n",
       "      <td>cf7353960a7c49e7ac1699e6b64656a2</td>\n",
       "      <td>NaN</td>\n",
       "      <td>2019-07-24 19:33:37.821549</td>\n",
       "      <td>0.0</td>\n",
       "    </tr>\n",
       "    <tr>\n",
       "      <th>27</th>\n",
       "      <td>1931989</td>\n",
       "      <td>sensor</td>\n",
       "      <td>sensor.dryer_socket_power</td>\n",
       "      <td>0</td>\n",
       "      <td>{\"state\": \"ON\", \"linkquality\": 0, \"power\": 0, ...</td>\n",
       "      <td>1942795</td>\n",
       "      <td>2019-07-21 04:38:47.303736</td>\n",
       "      <td>2019-07-24 19:36:09.806640</td>\n",
       "      <td>2019-07-24 19:36:09.830836</td>\n",
       "      <td>9b13bdcd9bc74a61b89e2e618d4ae9d8</td>\n",
       "      <td>NaN</td>\n",
       "      <td>2019-07-24 19:36:09.830836</td>\n",
       "      <td>0.0</td>\n",
       "    </tr>\n",
       "    <tr>\n",
       "      <th>39</th>\n",
       "      <td>1932001</td>\n",
       "      <td>sensor</td>\n",
       "      <td>sensor.dryer_socket_power</td>\n",
       "      <td>0</td>\n",
       "      <td>{\"state\": \"ON\", \"linkquality\": 57, \"power\": 0,...</td>\n",
       "      <td>1942807</td>\n",
       "      <td>2019-07-21 04:38:47.303736</td>\n",
       "      <td>2019-07-24 19:37:21.842150</td>\n",
       "      <td>2019-07-24 19:37:21.864949</td>\n",
       "      <td>361b88c01dee441795c36acf32474c33</td>\n",
       "      <td>NaN</td>\n",
       "      <td>2019-07-24 19:37:21.864949</td>\n",
       "      <td>0.0</td>\n",
       "    </tr>\n",
       "    <tr>\n",
       "      <th>55</th>\n",
       "      <td>1932017</td>\n",
       "      <td>sensor</td>\n",
       "      <td>sensor.dryer_socket_power</td>\n",
       "      <td>0</td>\n",
       "      <td>{\"state\": \"ON\", \"linkquality\": 57, \"power\": 0,...</td>\n",
       "      <td>1942823</td>\n",
       "      <td>2019-07-21 04:38:47.303736</td>\n",
       "      <td>2019-07-24 19:37:49.814017</td>\n",
       "      <td>2019-07-24 19:37:49.836446</td>\n",
       "      <td>7de4c1aaded54c22b4c347ed42045e77</td>\n",
       "      <td>NaN</td>\n",
       "      <td>2019-07-24 19:37:49.836446</td>\n",
       "      <td>0.0</td>\n",
       "    </tr>\n",
       "    <tr>\n",
       "      <th>58</th>\n",
       "      <td>1932020</td>\n",
       "      <td>sensor</td>\n",
       "      <td>sensor.dryer_socket_power</td>\n",
       "      <td>0</td>\n",
       "      <td>{\"state\": \"ON\", \"linkquality\": 57, \"power\": 0,...</td>\n",
       "      <td>1942826</td>\n",
       "      <td>2019-07-21 04:38:47.303736</td>\n",
       "      <td>2019-07-24 19:38:03.800280</td>\n",
       "      <td>2019-07-24 19:38:03.821925</td>\n",
       "      <td>0a9bd888e4a04b16bc7b508f7ee50465</td>\n",
       "      <td>NaN</td>\n",
       "      <td>2019-07-24 19:38:03.821925</td>\n",
       "      <td>0.0</td>\n",
       "    </tr>\n",
       "  </tbody>\n",
       "</table>\n",
       "</div>"
      ],
      "text/plain": [
       "    state_id  domain                  entity_id state  \\\n",
       "0    1931962  sensor  sensor.dryer_socket_power     0   \n",
       "27   1931989  sensor  sensor.dryer_socket_power     0   \n",
       "39   1932001  sensor  sensor.dryer_socket_power     0   \n",
       "55   1932017  sensor  sensor.dryer_socket_power     0   \n",
       "58   1932020  sensor  sensor.dryer_socket_power     0   \n",
       "\n",
       "                                           attributes  event_id  \\\n",
       "0   {\"state\": \"ON\", \"linkquality\": 57, \"power\": 0,...   1942768   \n",
       "27  {\"state\": \"ON\", \"linkquality\": 0, \"power\": 0, ...   1942795   \n",
       "39  {\"state\": \"ON\", \"linkquality\": 57, \"power\": 0,...   1942807   \n",
       "55  {\"state\": \"ON\", \"linkquality\": 57, \"power\": 0,...   1942823   \n",
       "58  {\"state\": \"ON\", \"linkquality\": 57, \"power\": 0,...   1942826   \n",
       "\n",
       "                  last_changed                last_updated  \\\n",
       "0   2019-07-21 04:38:47.303736  2019-07-24 19:33:37.798263   \n",
       "27  2019-07-21 04:38:47.303736  2019-07-24 19:36:09.806640   \n",
       "39  2019-07-21 04:38:47.303736  2019-07-24 19:37:21.842150   \n",
       "55  2019-07-21 04:38:47.303736  2019-07-24 19:37:49.814017   \n",
       "58  2019-07-21 04:38:47.303736  2019-07-24 19:38:03.800280   \n",
       "\n",
       "                       created                        context_id  \\\n",
       "0   2019-07-24 19:33:37.821549  cf7353960a7c49e7ac1699e6b64656a2   \n",
       "27  2019-07-24 19:36:09.830836  9b13bdcd9bc74a61b89e2e618d4ae9d8   \n",
       "39  2019-07-24 19:37:21.864949  361b88c01dee441795c36acf32474c33   \n",
       "55  2019-07-24 19:37:49.836446  7de4c1aaded54c22b4c347ed42045e77   \n",
       "58  2019-07-24 19:38:03.821925  0a9bd888e4a04b16bc7b508f7ee50465   \n",
       "\n",
       "   context_user_id                          t  power  \n",
       "0              NaN 2019-07-24 19:33:37.821549    0.0  \n",
       "27             NaN 2019-07-24 19:36:09.830836    0.0  \n",
       "39             NaN 2019-07-24 19:37:21.864949    0.0  \n",
       "55             NaN 2019-07-24 19:37:49.836446    0.0  \n",
       "58             NaN 2019-07-24 19:38:03.821925    0.0  "
      ]
     },
     "execution_count": 16,
     "metadata": {},
     "output_type": "execute_result"
    }
   ],
   "source": [
    "df_dryer_power.head()"
   ]
  },
  {
   "cell_type": "markdown",
   "metadata": {},
   "source": [
    "## Explorative analysis: plotting some dryer cycles"
   ]
  },
  {
   "cell_type": "code",
   "execution_count": 17,
   "metadata": {
    "collapsed": true
   },
   "outputs": [],
   "source": [
    "from plotnine import *"
   ]
  },
  {
   "cell_type": "code",
   "execution_count": 18,
   "metadata": {},
   "outputs": [
    {
     "data": {
      "image/png": "[encoded data removed]",
      "text/plain": [
       "<Figure size 640x480 with 1 Axes>"
      ]
     },
     "metadata": {},
     "output_type": "display_data"
    },
    {
     "data": {
      "text/plain": [
       "<ggplot: (-9223372036823612335)>"
      ]
     },
     "execution_count": 18,
     "metadata": {},
     "output_type": "execute_result"
    }
   ],
   "source": [
    "(ggplot(df_dryer_power, aes(x='t', y='power'))\n",
    "    + geom_line()\n",
    ")"
   ]
  },
  {
   "cell_type": "code",
   "execution_count": 19,
   "metadata": {
    "collapsed": true
   },
   "outputs": [],
   "source": [
    "def ggplot_power(start_time, end_time, df_power):\n",
    "    df_plot = df_power[ (df_power['t']>start_time) & (df_power['t']<end_time)].copy()\n",
    "    df_plot['time'] = df_power['t']-start_time\n",
    "    return (ggplot(df_plot, aes(x='time', y='power'))\n",
    "        + geom_line()\n",
    "    )"
   ]
  },
  {
   "cell_type": "code",
   "execution_count": 20,
   "metadata": {
    "collapsed": true
   },
   "outputs": [],
   "source": [
    "from matplotlib.pyplot import plot\n",
    "def plot_power(start_time, end_time, df_power):\n",
    "    df_plot = df_power[ (df_power['t']>start_time) & (df_power['t']<end_time)].copy()\n",
    "    df_plot['time'] = df_power['t']-start_time\n",
    "    df_plot['time'] = df_plot['time'].apply(lambda t:t.seconds/3600+t.days*24)\n",
    "    return plot(df_plot['time'], df_plot['power'])"
   ]
  },
  {
   "cell_type": "code",
   "execution_count": 21,
   "metadata": {},
   "outputs": [
    {
     "data": {
      "image/png": "[encoded data removed]",
      "text/plain": [
       "<Figure size 640x480 with 1 Axes>"
      ]
     },
     "metadata": {},
     "output_type": "display_data"
    },
    {
     "data": {
      "text/plain": [
       "<ggplot: (-9223372036823437280)>"
      ]
     },
     "execution_count": 21,
     "metadata": {},
     "output_type": "execute_result"
    }
   ],
   "source": [
    "import datetime\n",
    "time_start = datetime.datetime.combine(datetime.date(2019, 8, 1), \n",
    "                          datetime.time(10, 0))\n",
    "time_end = datetime.datetime.combine(datetime.date(2019, 8, 4), \n",
    "                          datetime.time(15, 0))\n",
    "ggplot_power(time_start, time_end, df_dryer_power)"
   ]
  },
  {
   "cell_type": "markdown",
   "metadata": {},
   "source": [
    "Three dryer cycles found. Let's zoom in on the first one."
   ]
  },
  {
   "cell_type": "code",
   "execution_count": 22,
   "metadata": {},
   "outputs": [
    {
     "data": {
      "image/png": "[encoded data removed]",
      "text/plain": [
       "<Figure size 640x480 with 1 Axes>"
      ]
     },
     "metadata": {},
     "output_type": "display_data"
    },
    {
     "data": {
      "text/plain": [
       "<ggplot: (-9223372036822929811)>"
      ]
     },
     "execution_count": 22,
     "metadata": {},
     "output_type": "execute_result"
    }
   ],
   "source": [
    "time_start = datetime.datetime.combine(datetime.date(2019, 8, 2), \n",
    "                          datetime.time(14, 0))\n",
    "time_end = datetime.datetime.combine(datetime.date(2019, 8, 2), \n",
    "                          datetime.time(20, 0))\n",
    "ggplot_power(time_start, time_end, df_dryer_power)"
   ]
  },
  {
   "cell_type": "markdown",
   "metadata": {},
   "source": [
    "The third one looks a bit different, different program??"
   ]
  },
  {
   "cell_type": "code",
   "execution_count": 23,
   "metadata": {},
   "outputs": [
    {
     "data": {
      "image/png": "[encoded data removed]",
      "text/plain": [
       "<Figure size 640x480 with 1 Axes>"
      ]
     },
     "metadata": {},
     "output_type": "display_data"
    },
    {
     "data": {
      "text/plain": [
       "<ggplot: (31259761)>"
      ]
     },
     "execution_count": 23,
     "metadata": {},
     "output_type": "execute_result"
    }
   ],
   "source": [
    "time_start = datetime.datetime.combine(datetime.date(2019, 8, 3), \n",
    "                          datetime.time(16, 0))\n",
    "time_end = datetime.datetime.combine(datetime.date(2019, 8, 3), \n",
    "                          datetime.time(21, 0))\n",
    "ggplot_power(time_start, time_end, df_dryer_power)"
   ]
  },
  {
   "cell_type": "markdown",
   "metadata": {},
   "source": [
    "Zoom on the last part of the graph, is it knitterschutz?"
   ]
  },
  {
   "cell_type": "code",
   "execution_count": 24,
   "metadata": {},
   "outputs": [
    {
     "data": {
      "image/png": "[encoded data removed]",
      "text/plain": [
       "<Figure size 640x480 with 1 Axes>"
      ]
     },
     "metadata": {},
     "output_type": "display_data"
    },
    {
     "data": {
      "text/plain": [
       "<ggplot: (31229693)>"
      ]
     },
     "execution_count": 24,
     "metadata": {},
     "output_type": "execute_result"
    }
   ],
   "source": [
    "time_start = datetime.datetime.combine(datetime.date(2019, 8, 3), \n",
    "                          datetime.time(18, 30))\n",
    "time_end = datetime.datetime.combine(datetime.date(2019, 8, 3), \n",
    "                          datetime.time(20, 0))\n",
    "ggplot_power(time_start, time_end, df_dryer_power)"
   ]
  },
  {
   "cell_type": "markdown",
   "metadata": {},
   "source": [
    "## Explorative analysis: sample frequency"
   ]
  },
  {
   "cell_type": "code",
   "execution_count": 25,
   "metadata": {},
   "outputs": [
    {
     "data": {
      "text/plain": [
       "Timestamp('2019-07-24 19:33:37.821549')"
      ]
     },
     "execution_count": 25,
     "metadata": {},
     "output_type": "execute_result"
    }
   ],
   "source": [
    "df_dryer_power['t'].min()"
   ]
  },
  {
   "cell_type": "code",
   "execution_count": 26,
   "metadata": {},
   "outputs": [
    {
     "data": {
      "text/plain": [
       "Timestamp('2019-08-04 08:47:18.798322')"
      ]
     },
     "execution_count": 26,
     "metadata": {},
     "output_type": "execute_result"
    }
   ],
   "source": [
    "df_dryer_power['t'].max()"
   ]
  },
  {
   "cell_type": "code",
   "execution_count": 27,
   "metadata": {},
   "outputs": [
    {
     "data": {
      "text/html": [
       "<div>\n",
       "<style scoped>\n",
       "    .dataframe tbody tr th:only-of-type {\n",
       "        vertical-align: middle;\n",
       "    }\n",
       "\n",
       "    .dataframe tbody tr th {\n",
       "        vertical-align: top;\n",
       "    }\n",
       "\n",
       "    .dataframe thead th {\n",
       "        text-align: right;\n",
       "    }\n",
       "</style>\n",
       "<table border=\"1\" class=\"dataframe\">\n",
       "  <thead>\n",
       "    <tr style=\"text-align: right;\">\n",
       "      <th></th>\n",
       "      <th>t</th>\n",
       "      <th>time</th>\n",
       "      <th>tdiff</th>\n",
       "    </tr>\n",
       "  </thead>\n",
       "  <tbody>\n",
       "    <tr>\n",
       "      <th>0</th>\n",
       "      <td>2019-07-24 19:33:37.821549</td>\n",
       "      <td>0.000000</td>\n",
       "      <td>NaN</td>\n",
       "    </tr>\n",
       "    <tr>\n",
       "      <th>27</th>\n",
       "      <td>2019-07-24 19:36:09.830836</td>\n",
       "      <td>152.009287</td>\n",
       "      <td>152.009287</td>\n",
       "    </tr>\n",
       "    <tr>\n",
       "      <th>39</th>\n",
       "      <td>2019-07-24 19:37:21.864949</td>\n",
       "      <td>224.043400</td>\n",
       "      <td>72.034113</td>\n",
       "    </tr>\n",
       "    <tr>\n",
       "      <th>55</th>\n",
       "      <td>2019-07-24 19:37:49.836446</td>\n",
       "      <td>252.014897</td>\n",
       "      <td>27.971497</td>\n",
       "    </tr>\n",
       "    <tr>\n",
       "      <th>58</th>\n",
       "      <td>2019-07-24 19:38:03.821925</td>\n",
       "      <td>266.000376</td>\n",
       "      <td>13.985479</td>\n",
       "    </tr>\n",
       "  </tbody>\n",
       "</table>\n",
       "</div>"
      ],
      "text/plain": [
       "                            t        time       tdiff\n",
       "0  2019-07-24 19:33:37.821549    0.000000         NaN\n",
       "27 2019-07-24 19:36:09.830836  152.009287  152.009287\n",
       "39 2019-07-24 19:37:21.864949  224.043400   72.034113\n",
       "55 2019-07-24 19:37:49.836446  252.014897   27.971497\n",
       "58 2019-07-24 19:38:03.821925  266.000376   13.985479"
      ]
     },
     "execution_count": 27,
     "metadata": {},
     "output_type": "execute_result"
    }
   ],
   "source": [
    "df_dryer_power['time'] = df_dryer_power['t'] - df_dryer_power['t'].min()\n",
    "df_dryer_power['time'] = df_dryer_power['time'].apply(lambda t:t.seconds + t.days*3600*24 + t.microseconds / 1000000.0)\n",
    "df_dryer_power['tdiff'] = df_dryer_power['time'].diff()\n",
    "df_dryer_power[['t','time','tdiff']].head()"
   ]
  },
  {
   "cell_type": "code",
   "execution_count": 28,
   "metadata": {},
   "outputs": [
    {
     "data": {
      "text/html": [
       "<div>\n",
       "<style scoped>\n",
       "    .dataframe tbody tr th:only-of-type {\n",
       "        vertical-align: middle;\n",
       "    }\n",
       "\n",
       "    .dataframe tbody tr th {\n",
       "        vertical-align: top;\n",
       "    }\n",
       "\n",
       "    .dataframe thead th {\n",
       "        text-align: right;\n",
       "    }\n",
       "</style>\n",
       "<table border=\"1\" class=\"dataframe\">\n",
       "  <thead>\n",
       "    <tr style=\"text-align: right;\">\n",
       "      <th></th>\n",
       "      <th>t</th>\n",
       "      <th>time</th>\n",
       "      <th>tdiff</th>\n",
       "    </tr>\n",
       "  </thead>\n",
       "  <tbody>\n",
       "    <tr>\n",
       "      <th>374009</th>\n",
       "      <td>2019-08-04 08:42:10.771238</td>\n",
       "      <td>911312.949689</td>\n",
       "      <td>13.993919</td>\n",
       "    </tr>\n",
       "    <tr>\n",
       "      <th>374148</th>\n",
       "      <td>2019-08-04 08:42:52.776437</td>\n",
       "      <td>911354.954888</td>\n",
       "      <td>42.005199</td>\n",
       "    </tr>\n",
       "    <tr>\n",
       "      <th>374177</th>\n",
       "      <td>2019-08-04 08:43:06.811946</td>\n",
       "      <td>911368.990397</td>\n",
       "      <td>14.035509</td>\n",
       "    </tr>\n",
       "    <tr>\n",
       "      <th>374208</th>\n",
       "      <td>2019-08-04 08:43:20.778312</td>\n",
       "      <td>911382.956763</td>\n",
       "      <td>13.966366</td>\n",
       "    </tr>\n",
       "    <tr>\n",
       "      <th>374629</th>\n",
       "      <td>2019-08-04 08:47:18.798322</td>\n",
       "      <td>911620.976773</td>\n",
       "      <td>238.020010</td>\n",
       "    </tr>\n",
       "  </tbody>\n",
       "</table>\n",
       "</div>"
      ],
      "text/plain": [
       "                                t           time       tdiff\n",
       "374009 2019-08-04 08:42:10.771238  911312.949689   13.993919\n",
       "374148 2019-08-04 08:42:52.776437  911354.954888   42.005199\n",
       "374177 2019-08-04 08:43:06.811946  911368.990397   14.035509\n",
       "374208 2019-08-04 08:43:20.778312  911382.956763   13.966366\n",
       "374629 2019-08-04 08:47:18.798322  911620.976773  238.020010"
      ]
     },
     "execution_count": 28,
     "metadata": {},
     "output_type": "execute_result"
    }
   ],
   "source": [
    "df_dryer_power[['t','time','tdiff']].tail()"
   ]
  },
  {
   "cell_type": "code",
   "execution_count": 29,
   "metadata": {},
   "outputs": [
    {
     "data": {
      "text/plain": [
       "count     43614.000000\n",
       "mean     677155.969973\n",
       "std      223792.511111\n",
       "min           0.000000\n",
       "25%      642000.358972\n",
       "50%      768830.969731\n",
       "75%      786879.501963\n",
       "max      911620.976773\n",
       "Name: time, dtype: float64"
      ]
     },
     "execution_count": 29,
     "metadata": {},
     "output_type": "execute_result"
    }
   ],
   "source": [
    "df_dryer_power['time'].describe()"
   ]
  },
  {
   "cell_type": "code",
   "execution_count": 30,
   "metadata": {},
   "outputs": [
    {
     "data": {
      "text/plain": [
       "count    43613.000000\n",
       "mean        20.902506\n",
       "std         52.849337\n",
       "min          0.083738\n",
       "25%          0.311919\n",
       "50%          0.963717\n",
       "75%         14.003803\n",
       "max       1950.423235\n",
       "Name: tdiff, dtype: float64"
      ]
     },
     "execution_count": 30,
     "metadata": {},
     "output_type": "execute_result"
    }
   ],
   "source": [
    "df_dryer_power['tdiff'].describe()"
   ]
  },
  {
   "cell_type": "markdown",
   "metadata": {},
   "source": [
    "Seems like the sensor only updates on changes of e.g. power, there is no fixed sample frequency."
   ]
  },
  {
   "cell_type": "markdown",
   "metadata": {},
   "source": [
    "## Automatic detection of dryer status"
   ]
  },
  {
   "cell_type": "code",
   "execution_count": 35,
   "metadata": {},
   "outputs": [
    {
     "data": {
      "text/html": [
       "<div>\n",
       "<style scoped>\n",
       "    .dataframe tbody tr th:only-of-type {\n",
       "        vertical-align: middle;\n",
       "    }\n",
       "\n",
       "    .dataframe tbody tr th {\n",
       "        vertical-align: top;\n",
       "    }\n",
       "\n",
       "    .dataframe thead th {\n",
       "        text-align: right;\n",
       "    }\n",
       "</style>\n",
       "<table border=\"1\" class=\"dataframe\">\n",
       "  <thead>\n",
       "    <tr style=\"text-align: right;\">\n",
       "      <th></th>\n",
       "      <th>t</th>\n",
       "      <th>time</th>\n",
       "      <th>power</th>\n",
       "    </tr>\n",
       "    <tr>\n",
       "      <th>t</th>\n",
       "      <th></th>\n",
       "      <th></th>\n",
       "      <th></th>\n",
       "    </tr>\n",
       "  </thead>\n",
       "  <tbody>\n",
       "    <tr>\n",
       "      <th>2019-07-24 19:33:37.821549</th>\n",
       "      <td>2019-07-24 19:33:37.821549</td>\n",
       "      <td>0.000000</td>\n",
       "      <td>0.0</td>\n",
       "    </tr>\n",
       "    <tr>\n",
       "      <th>2019-07-24 19:36:09.830836</th>\n",
       "      <td>2019-07-24 19:36:09.830836</td>\n",
       "      <td>152.009287</td>\n",
       "      <td>0.0</td>\n",
       "    </tr>\n",
       "    <tr>\n",
       "      <th>2019-07-24 19:37:21.864949</th>\n",
       "      <td>2019-07-24 19:37:21.864949</td>\n",
       "      <td>224.043400</td>\n",
       "      <td>0.0</td>\n",
       "    </tr>\n",
       "    <tr>\n",
       "      <th>2019-07-24 19:37:49.836446</th>\n",
       "      <td>2019-07-24 19:37:49.836446</td>\n",
       "      <td>252.014897</td>\n",
       "      <td>0.0</td>\n",
       "    </tr>\n",
       "    <tr>\n",
       "      <th>2019-07-24 19:38:03.821925</th>\n",
       "      <td>2019-07-24 19:38:03.821925</td>\n",
       "      <td>266.000376</td>\n",
       "      <td>0.0</td>\n",
       "    </tr>\n",
       "  </tbody>\n",
       "</table>\n",
       "</div>"
      ],
      "text/plain": [
       "                                                    t        time  power\n",
       "t                                                                       \n",
       "2019-07-24 19:33:37.821549 2019-07-24 19:33:37.821549    0.000000    0.0\n",
       "2019-07-24 19:36:09.830836 2019-07-24 19:36:09.830836  152.009287    0.0\n",
       "2019-07-24 19:37:21.864949 2019-07-24 19:37:21.864949  224.043400    0.0\n",
       "2019-07-24 19:37:49.836446 2019-07-24 19:37:49.836446  252.014897    0.0\n",
       "2019-07-24 19:38:03.821925 2019-07-24 19:38:03.821925  266.000376    0.0"
      ]
     },
     "execution_count": 35,
     "metadata": {},
     "output_type": "execute_result"
    }
   ],
   "source": [
    "df_rolling = df_dryer_power.set_index(df_dryer_power['t'])[['t','time','power']]\n",
    "df_rolling.head()"
   ]
  },
  {
   "cell_type": "markdown",
   "metadata": {},
   "source": [
    "### Thresholding over a window"
   ]
  },
  {
   "cell_type": "markdown",
   "metadata": {},
   "source": [
    "The dryer is running if uses any power > 100 Watt at any time in the last 4 seconds."
   ]
  },
  {
   "cell_type": "code",
   "execution_count": 36,
   "metadata": {},
   "outputs": [],
   "source": [
    "df_rolling['on'] = df_rolling['power'].rolling('240s').max()>100"
   ]
  },
  {
   "cell_type": "code",
   "execution_count": 37,
   "metadata": {},
   "outputs": [
    {
     "data": {
      "image/png": "[encoded data removed]",
      "text/plain": [
       "<Figure size 640x480 with 1 Axes>"
      ]
     },
     "metadata": {},
     "output_type": "display_data"
    },
    {
     "data": {
      "text/plain": [
       "<ggplot: (-9223372036823485282)>"
      ]
     },
     "execution_count": 37,
     "metadata": {},
     "output_type": "execute_result"
    }
   ],
   "source": [
    "(ggplot(df_rolling, aes(x='t', y='power',color='on'))\n",
    "    + geom_point()\n",
    ")"
   ]
  },
  {
   "cell_type": "code",
   "execution_count": 38,
   "metadata": {
    "collapsed": true
   },
   "outputs": [],
   "source": [
    "def ggplot_power_status(start_time, end_time, df_power, status_var='on'):\n",
    "    df_plot = df_power[ (df_power['t']>start_time) & (df_power['t']<end_time)].copy()\n",
    "    df_plot['time'] = df_power['t']-start_time\n",
    "    return (ggplot(df_plot, aes(x='time', y='power', color=status_var))\n",
    "        + geom_point()        \n",
    "    )"
   ]
  },
  {
   "cell_type": "code",
   "execution_count": 39,
   "metadata": {},
   "outputs": [
    {
     "data": {
      "image/png": "[encoded data removed]",
      "text/plain": [
       "<Figure size 640x480 with 1 Axes>"
      ]
     },
     "metadata": {},
     "output_type": "display_data"
    },
    {
     "data": {
      "text/plain": [
       "<ggplot: (-9223372036823431855)>"
      ]
     },
     "execution_count": 39,
     "metadata": {},
     "output_type": "execute_result"
    }
   ],
   "source": [
    "time_start = datetime.datetime.combine(datetime.date(2019, 8, 3), \n",
    "                          datetime.time(16, 0))\n",
    "time_end = datetime.datetime.combine(datetime.date(2019, 8, 3), \n",
    "                          datetime.time(21, 0))\n",
    "ggplot_power_status(time_start, time_end, df_rolling)"
   ]
  },
  {
   "cell_type": "code",
   "execution_count": 40,
   "metadata": {},
   "outputs": [
    {
     "data": {
      "image/png": "[encoded data removed]",
      "text/plain": [
       "<Figure size 640x480 with 1 Axes>"
      ]
     },
     "metadata": {},
     "output_type": "display_data"
    },
    {
     "data": {
      "text/plain": [
       "<ggplot: (31344027)>"
      ]
     },
     "execution_count": 40,
     "metadata": {},
     "output_type": "execute_result"
    }
   ],
   "source": [
    "time_start = datetime.datetime.combine(datetime.date(2019, 8, 3), \n",
    "                          datetime.time(18, 30))\n",
    "time_end = datetime.datetime.combine(datetime.date(2019, 8, 3), \n",
    "                          datetime.time(20, 0))\n",
    "ggplot_power_status(time_start, time_end, df_rolling)"
   ]
  },
  {
   "cell_type": "code",
   "execution_count": 41,
   "metadata": {},
   "outputs": [
    {
     "data": {
      "image/png": "[encoded data removed]",
      "text/plain": [
       "<Figure size 640x480 with 1 Axes>"
      ]
     },
     "metadata": {},
     "output_type": "display_data"
    },
    {
     "data": {
      "text/plain": [
       "<ggplot: (-9223372036823552354)>"
      ]
     },
     "execution_count": 41,
     "metadata": {},
     "output_type": "execute_result"
    }
   ],
   "source": [
    "time_start = datetime.datetime.combine(datetime.date(2019, 8, 2), \n",
    "                          datetime.time(14, 0))\n",
    "time_end = datetime.datetime.combine(datetime.date(2019, 8, 2), \n",
    "                          datetime.time(20, 0))\n",
    "ggplot_power_status(time_start, time_end, df_rolling)"
   ]
  },
  {
   "cell_type": "markdown",
   "metadata": {},
   "source": [
    "Simple thresholding seems to work well with our three samples."
   ]
  },
  {
   "cell_type": "markdown",
   "metadata": {},
   "source": [
    "## Notification of done"
   ]
  },
  {
   "cell_type": "markdown",
   "metadata": {},
   "source": [
    "Done if we switch from on to off"
   ]
  },
  {
   "cell_type": "code",
   "execution_count": 42,
   "metadata": {},
   "outputs": [],
   "source": [
    "done = df_rolling['on'].astype(int).diff() == -1"
   ]
  },
  {
   "cell_type": "code",
   "execution_count": 43,
   "metadata": {
    "collapsed": true
   },
   "outputs": [],
   "source": [
    "df_rolling['done'] = done"
   ]
  },
  {
   "cell_type": "code",
   "execution_count": 44,
   "metadata": {},
   "outputs": [
    {
     "data": {
      "text/plain": [
       "3"
      ]
     },
     "execution_count": 44,
     "metadata": {},
     "output_type": "execute_result"
    }
   ],
   "source": [
    "sum(df_rolling['done'])"
   ]
  },
  {
   "cell_type": "code",
   "execution_count": 45,
   "metadata": {},
   "outputs": [
    {
     "data": {
      "image/png": "[encoded data removed]",
      "text/plain": [
       "<Figure size 640x480 with 1 Axes>"
      ]
     },
     "metadata": {},
     "output_type": "display_data"
    },
    {
     "data": {
      "text/plain": [
       "<ggplot: (31223514)>"
      ]
     },
     "execution_count": 45,
     "metadata": {},
     "output_type": "execute_result"
    }
   ],
   "source": [
    "(ggplot(df_rolling, aes(x='t', y='power',color='done'))\n",
    "    + geom_point()\n",
    ")"
   ]
  },
  {
   "cell_type": "code",
   "execution_count": 46,
   "metadata": {},
   "outputs": [
    {
     "data": {
      "image/png": "[encoded data removed]",
      "text/plain": [
       "<Figure size 640x480 with 1 Axes>"
      ]
     },
     "metadata": {},
     "output_type": "display_data"
    },
    {
     "data": {
      "text/plain": [
       "<ggplot: (-9223372036822934398)>"
      ]
     },
     "execution_count": 46,
     "metadata": {},
     "output_type": "execute_result"
    }
   ],
   "source": [
    "time_start = datetime.datetime.combine(datetime.date(2019, 8, 3), \n",
    "                          datetime.time(16, 0))\n",
    "time_end = datetime.datetime.combine(datetime.date(2019, 8, 3), \n",
    "                          datetime.time(21, 0))\n",
    "ggplot_power_status(time_start, time_end, df_rolling, 'done')"
   ]
  },
  {
   "cell_type": "code",
   "execution_count": 47,
   "metadata": {},
   "outputs": [
    {
     "data": {
      "image/png": "[encoded data removed]",
      "text/plain": [
       "<Figure size 640x480 with 1 Axes>"
      ]
     },
     "metadata": {},
     "output_type": "display_data"
    },
    {
     "data": {
      "text/plain": [
       "<ggplot: (-9223372036787562913)>"
      ]
     },
     "execution_count": 47,
     "metadata": {},
     "output_type": "execute_result"
    }
   ],
   "source": [
    "time_start = datetime.datetime.combine(datetime.date(2019, 8, 3), \n",
    "                          datetime.time(18, 30))\n",
    "time_end = datetime.datetime.combine(datetime.date(2019, 8, 3), \n",
    "                          datetime.time(20, 0))\n",
    "ggplot_power_status(time_start, time_end, df_rolling, 'done')"
   ]
  },
  {
   "cell_type": "markdown",
   "metadata": {},
   "source": [
    "## Power consumption of the dryer (in kWh)"
   ]
  },
  {
   "cell_type": "markdown",
   "metadata": {},
   "source": [
    "The power consumption of the dryer in kWh is:\n",
    "\n",
    "$ \\int_{t_{start}}^{t_{end}} power(t) dt$\n",
    "\n",
    "with $t_{start}$ and $t_{end}$ the start and end time in hours and $power(t)$ the power at time t in kWh. I use the scipy trapezoid integration to calculate this."
   ]
  },
  {
   "cell_type": "code",
   "execution_count": 48,
   "metadata": {
    "collapsed": true
   },
   "outputs": [],
   "source": [
    "from scipy import integrate"
   ]
  },
  {
   "cell_type": "code",
   "execution_count": 49,
   "metadata": {},
   "outputs": [
    {
     "data": {
      "text/plain": [
       "4.343469666069295"
      ]
     },
     "execution_count": 49,
     "metadata": {},
     "output_type": "execute_result"
    }
   ],
   "source": [
    "integrate.trapz(df_dryer_power['power']/1000, x=df_dryer_power['time']/3600)"
   ]
  },
  {
   "cell_type": "code",
   "execution_count": 50,
   "metadata": {
    "collapsed": true
   },
   "outputs": [],
   "source": [
    "def power_consumption(df_power, start_time, end_time):\n",
    "    power = df_power[ (df_power['t']>start_time) & (df_power['t']<end_time)].copy()\n",
    "    power['time'] = power['time']-power['time'].min()\n",
    "    return integrate.trapz(power['power']/1000, x=power['time']/3600)"
   ]
  },
  {
   "cell_type": "markdown",
   "metadata": {},
   "source": [
    "Long drying cycle:"
   ]
  },
  {
   "cell_type": "code",
   "execution_count": 51,
   "metadata": {},
   "outputs": [
    {
     "data": {
      "text/plain": [
       "1.917853578595996"
      ]
     },
     "execution_count": 51,
     "metadata": {},
     "output_type": "execute_result"
    }
   ],
   "source": [
    "time_start = datetime.datetime.combine(datetime.date(2019, 8, 2), \n",
    "                          datetime.time(14, 0))\n",
    "time_end = datetime.datetime.combine(datetime.date(2019, 8, 2), \n",
    "                          datetime.time(20, 0))\n",
    "power_consumption(df_dryer_power, time_start, time_end)"
   ]
  },
  {
   "cell_type": "markdown",
   "metadata": {},
   "source": [
    "Short drying cycle:"
   ]
  },
  {
   "cell_type": "code",
   "execution_count": 52,
   "metadata": {},
   "outputs": [
    {
     "data": {
      "text/plain": [
       "1.0479363469987275"
      ]
     },
     "execution_count": 52,
     "metadata": {},
     "output_type": "execute_result"
    }
   ],
   "source": [
    "time_start = datetime.datetime.combine(datetime.date(2019, 8, 3), \n",
    "                          datetime.time(16, 0))\n",
    "time_end = datetime.datetime.combine(datetime.date(2019, 8, 3), \n",
    "                          datetime.time(21, 0))\n",
    "power_consumption(df_dryer_power, time_start, time_end)"
   ]
  }
 ],
 "metadata": {
  "kernelspec": {
   "display_name": "Python 3",
   "language": "python",
   "name": "python3"
  },
  "language_info": {
   "codemirror_mode": {
    "name": "ipython",
    "version": 3
   },
   "file_extension": ".py",
   "mimetype": "text/x-python",
   "name": "python",
   "nbconvert_exporter": "python",
   "pygments_lexer": "ipython3",
   "version": "3.6.8"
  }
 },
 "nbformat": 4,
 "nbformat_minor": 2
}
